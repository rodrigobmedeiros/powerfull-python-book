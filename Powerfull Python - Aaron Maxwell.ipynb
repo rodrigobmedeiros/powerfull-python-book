{
 "cells": [
  {
   "cell_type": "markdown",
   "metadata": {},
   "source": [
    "# Notes & Code"
   ]
  },
  {
   "cell_type": "markdown",
   "metadata": {},
   "source": [
    "## Chapter: Scaling with generators\n",
    "\n",
    "Let's start with iterations, iteration is simply pass over each element in a sequence doing some operation on that. It's largelly used in for loops. But when a for loop is used, what happens under the hood? <br>\n",
    "So actually python uses a built-in function called `iter()` transforming a sequence into a `iterator`, what points to next element each iteration. <br> \n",
    "\n",
    "- iterator: An iterator is like a moving pointer over the collections."
   ]
  },
  {
   "cell_type": "code",
   "execution_count": 2,
   "metadata": {},
   "outputs": [
    {
     "name": "stdout",
     "output_type": "stream",
     "text": [
      "1\n",
      "2\n",
      "3\n",
      "4\n",
      "5\n"
     ]
    }
   ],
   "source": [
    "numbers = [1, 2, 3, 4, 5]\n",
    "\n",
    "for num in numbers: print(num)"
   ]
  },
  {
   "cell_type": "code",
   "execution_count": 5,
   "metadata": {},
   "outputs": [
    {
     "name": "stdout",
     "output_type": "stream",
     "text": [
      "1\n",
      "2\n",
      "3\n",
      "4\n",
      "5\n",
      "numbers type: <class 'list'>\n",
      "numbers_iter type <class 'list_iterator'>\n"
     ]
    }
   ],
   "source": [
    "numbers = [1, 2, 3, 4, 5]\n",
    "\n",
    "numbers_iter = iter(numbers)\n",
    "\n",
    "for num in numbers_iter: print(num)\n",
    "    \n",
    "print(f'numbers type: {type(numbers)}')\n",
    "print(f'numbers_iter type {type(numbers_iter)}')"
   ]
  },
  {
   "cell_type": "markdown",
   "metadata": {},
   "source": [
    "So I have this situation for example in a for loop what python actually does is get some sequence and transform it into a iterator. And how python do that?<br>\n",
    "Simple!<br>\n",
    "\n",
    "There is a built-in function called iter() that get a sequence and return a iterator like showed previously. And how does iter() get the iterator?<br>\n",
    "\n",
    "Many ways to do that but one specific is define the magic dunder method `__iter__`. In this point we have to define the difference between iterator and iterable.<br>\n",
    "\n",
    "- iterable: Are objects that return an iterator when passed through iter() function.\n",
    "- iterator: Are the returns of iter() function, an object that have give one element by time."
   ]
  },
  {
   "cell_type": "code",
   "execution_count": 1,
   "metadata": {},
   "outputs": [],
   "source": [
    "names = ['Tom', 'Shelly',' Garth']\n",
    "names_it = iter(names)"
   ]
  },
  {
   "cell_type": "code",
   "execution_count": 5,
   "metadata": {},
   "outputs": [
    {
     "ename": "StopIteration",
     "evalue": "",
     "output_type": "error",
     "traceback": [
      "\u001b[1;31m---------------------------------------------------------------------------\u001b[0m",
      "\u001b[1;31mStopIteration\u001b[0m                             Traceback (most recent call last)",
      "\u001b[1;32m<ipython-input-5-69b8467a0ee5>\u001b[0m in \u001b[0;36m<module>\u001b[1;34m\u001b[0m\n\u001b[1;32m----> 1\u001b[1;33m \u001b[0mnext\u001b[0m\u001b[1;33m(\u001b[0m\u001b[0mnames_it\u001b[0m\u001b[1;33m)\u001b[0m\u001b[1;33m\u001b[0m\u001b[1;33m\u001b[0m\u001b[0m\n\u001b[0m",
      "\u001b[1;31mStopIteration\u001b[0m: "
     ]
    }
   ],
   "source": [
    "next(names_it)"
   ]
  },
  {
   "cell_type": "markdown",
   "metadata": {},
   "source": [
    "Analisando mais detalhadamente a operação iter() sobre um objeto iterável, podemos utilizar outra built-in function chamada next() para acessar o próximo elemento do iterador. aplicando next() sucessivas vezes, consigo acessar todos os elementos da sequencia, até que ao não ter mais elementos, ocorre um raise exception de um erro do tipo `StopIteration`."
   ]
  },
  {
   "cell_type": "code",
   "execution_count": 57,
   "metadata": {},
   "outputs": [],
   "source": [
    "names = ['Tom', 'Shelly',' Garth']\n",
    "names_it = iter(names)"
   ]
  },
  {
   "cell_type": "code",
   "execution_count": 21,
   "metadata": {},
   "outputs": [
    {
     "data": {
      "text/plain": [
       "'Rodrigo'"
      ]
     },
     "execution_count": 21,
     "metadata": {},
     "output_type": "execute_result"
    }
   ],
   "source": [
    "# neste caso, tenho também a presença de um valor default onde ao invés de um raise exception, terei obterei o valor default.\n",
    "# este valor default continua ocorrendo indefinidamente ao acessar o iterator desta forma.\n",
    "\n",
    "next(names_it, \"Rodrigo\")"
   ]
  },
  {
   "cell_type": "markdown",
   "metadata": {},
   "source": [
    "Vamos agora, começar a analisar onde esta definição de iteradores e iteráveis podem trazer ganho em sua utilização."
   ]
  },
  {
   "cell_type": "code",
   "execution_count": 25,
   "metadata": {},
   "outputs": [],
   "source": [
    "# Definição de uma função que calcula uma lista de quadrados de numeros, um a um recebendo como parametro o limite superior \n",
    "# da lista\n",
    "\n",
    "def calculate_squares(__max):\n",
    "    \n",
    "    squares = list()\n",
    "    \n",
    "    for num in range(__max):\n",
    "        \n",
    "        squares.append(num ** 2)\n",
    "        \n",
    "    return squares"
   ]
  },
  {
   "cell_type": "code",
   "execution_count": 28,
   "metadata": {},
   "outputs": [
    {
     "data": {
      "text/plain": [
       "[0, 1, 4, 9]"
      ]
     },
     "execution_count": 28,
     "metadata": {},
     "output_type": "execute_result"
    }
   ],
   "source": [
    "calculate_squares(4)"
   ]
  },
  {
   "cell_type": "markdown",
   "metadata": {},
   "source": [
    "Reparamos que neste caso passando para função o valor máximo de elementos que quero calcular o quadrado, é retornado uma lista de valores. Isto significa que preciso ocupar espaço na memória com uma lista de quadrados calculados. Ou seja, dependendo do numero de elementos este valor pode rapidamente explodir a memória. Imagine se quiser uma lista com 1 milhão de quadrados ou mais.<br>\n",
    "Como comentado anteriormente, se uma classe definir o método mágico `__iter__` e o método `__next__` é possível obter um iterador passando este objeto pela função iter() e neste caso, também como visto anteriormente, não seria criada uma lista de valores e sim ocorreria a obtenção de um valor da sequencia por vez conforme necessário.<br>\n",
    "Vamos ver a seguir como fazer esta definição utilizando orientação a objetos."
   ]
  },
  {
   "cell_type": "code",
   "execution_count": 295,
   "metadata": {},
   "outputs": [],
   "source": [
    "class SquareIterator():\n",
    "    \n",
    "    def __init__(self, max_value):\n",
    "        \n",
    "        self.max_value = max_value\n",
    "        self.current_value = 0\n",
    "        \n",
    "    def __iter__(self):\n",
    "        \n",
    "        return self\n",
    "    \n",
    "    def __next__(self):\n",
    "        \n",
    "        if self.current_value >= self.max_value:\n",
    "            \n",
    "            raise StopIteration\n",
    "            \n",
    "        current_squared_value = self.current_value ** 2\n",
    "        \n",
    "        self.current_value += 1\n",
    "        \n",
    "        return current_squared_value"
   ]
  },
  {
   "cell_type": "code",
   "execution_count": 30,
   "metadata": {},
   "outputs": [
    {
     "name": "stdout",
     "output_type": "stream",
     "text": [
      "0\n",
      "1\n",
      "4\n"
     ]
    }
   ],
   "source": [
    "for num in SquareIterator(3):\n",
    "    \n",
    "    print(num)"
   ]
  },
  {
   "cell_type": "code",
   "execution_count": 31,
   "metadata": {},
   "outputs": [
    {
     "name": "stdout",
     "output_type": "stream",
     "text": [
      "0\n",
      "1\n",
      "4\n"
     ]
    }
   ],
   "source": [
    "for num in calculate_squares(3):\n",
    "    \n",
    "    print(num)"
   ]
  },
  {
   "cell_type": "markdown",
   "metadata": {},
   "source": [
    "Utilizando tanto a classe como a função, quanto a classe eu consigo resolver o problema de iterar sobre uma lista de quadrados de números entre 0 e um valor máximo.\n",
    "A diferença é que no caso da classe, eu não precisar gerar uma lista completa a cada chamada next, o objeto altera seu estado através do retorno de uma nova instância com seus atributos atualizados até atingir o limite."
   ]
  },
  {
   "cell_type": "markdown",
   "metadata": {},
   "source": [
    "Interessante, entramos agora em um novo questionamento...<br>\n",
    "Ok, interessante essa criação da classe onde definindo os métodos `__iter__` e `__next__` consigo criar meu iterator sem precisar criar de fato uma sequencia inteira, acessando os elementos um a um conforme for preciso.<br>\n",
    "A dúvida é, existe forma mais fácil e prática de fazer isso?<br>\n",
    "E a resposta é sim!"
   ]
  },
  {
   "cell_type": "markdown",
   "metadata": {},
   "source": [
    "### Generator Functions"
   ]
  },
  {
   "cell_type": "markdown",
   "metadata": {},
   "source": [
    "As generate functions pelo que estou lendo tem muitas funcionalidades, mas a principal explorada neste texto é exatamente a praticidade na geração de iterators.<br>\n",
    "Estas funções se parecem muito com uma função tradicional mas ao invés de ter um `return` ocorre uma nova palavra-chave, `yield`. E é exatamente este cara que faz toda a diferença."
   ]
  },
  {
   "cell_type": "code",
   "execution_count": 1,
   "metadata": {},
   "outputs": [],
   "source": [
    "def gen_nums():\n",
    "    \n",
    "    n = 0\n",
    "    \n",
    "    while n < 4:\n",
    "        \n",
    "        yield n\n",
    "        \n",
    "        n += 1"
   ]
  },
  {
   "cell_type": "code",
   "execution_count": 4,
   "metadata": {},
   "outputs": [
    {
     "name": "stdout",
     "output_type": "stream",
     "text": [
      "0\n",
      "1\n",
      "2\n",
      "3\n"
     ]
    }
   ],
   "source": [
    "for num in gen_nums():\n",
    "    \n",
    "    print(num)"
   ]
  },
  {
   "cell_type": "code",
   "execution_count": 5,
   "metadata": {},
   "outputs": [
    {
     "data": {
      "text/plain": [
       "generator"
      ]
     },
     "execution_count": 5,
     "metadata": {},
     "output_type": "execute_result"
    }
   ],
   "source": [
    "sequence = gen_nums()\n",
    "type(sequence)"
   ]
  },
  {
   "cell_type": "markdown",
   "metadata": {},
   "source": [
    "Vamos as definições:\n",
    "\n",
    "- `GENERATOR FUNCTION:` - É uma função na qual eu defino retorno através da palavra-chave yield e não da palavra `return`.\n",
    "\n",
    "- `GENERATOR OBJECT:` - É o objeto retornado pela GENERATOR FUNCTION, e na real, ele é um iterator onde posso aplicar a built-in function next() e utilizar em for loops por exemplo."
   ]
  },
  {
   "cell_type": "code",
   "execution_count": 10,
   "metadata": {},
   "outputs": [
    {
     "ename": "StopIteration",
     "evalue": "",
     "output_type": "error",
     "traceback": [
      "\u001b[1;31m---------------------------------------------------------------------------\u001b[0m",
      "\u001b[1;31mStopIteration\u001b[0m                             Traceback (most recent call last)",
      "\u001b[1;32m<ipython-input-10-f94e29dda836>\u001b[0m in \u001b[0;36m<module>\u001b[1;34m\u001b[0m\n\u001b[1;32m----> 1\u001b[1;33m \u001b[0mnext\u001b[0m\u001b[1;33m(\u001b[0m\u001b[0msequence\u001b[0m\u001b[1;33m)\u001b[0m\u001b[1;33m\u001b[0m\u001b[1;33m\u001b[0m\u001b[0m\n\u001b[0m",
      "\u001b[1;31mStopIteration\u001b[0m: "
     ]
    }
   ],
   "source": [
    "next(sequence)"
   ]
  },
  {
   "cell_type": "markdown",
   "metadata": {},
   "source": [
    "Aqui temos uma definição interessante sobre as GENERATOR FUNCTIONS e sua comparação com as regular functions.<br>\n",
    "Enquanto funções regulares podem apresentar vários pontos de saída (return statement), elas apresentam apenas um ponto de entrada. Ou seja, toda vez que uma função regular é chamada, ela roda desde sua primeira linha.<br>\n",
    "No caso das GENERATOR FUNCTIONS, cada yield statement funciona como ponto de saída e entrada. Ou seja, ao chamar a função uma primeira vez, ela roda até o primeiro yield, ao rodar a função novamente ela começa a rodar exatamente na linha seguinte ao yield retornado anteriormente. "
   ]
  },
  {
   "cell_type": "markdown",
   "metadata": {},
   "source": [
    "__Obs:__ Não é necessário dar um raise em uma excessão (StopIteration), no caso do GENERATOR OBJECT retornado por uma GENERATOR FUNCTION, ele jé é implementado nativamente.<br>\n",
    "\n",
    "Vamos fazer alguns testes:"
   ]
  },
  {
   "cell_type": "code",
   "execution_count": 11,
   "metadata": {},
   "outputs": [],
   "source": [
    "def gen_function():\n",
    "    \n",
    "    yield \"Rodrigo Bernardo Medeiros\""
   ]
  },
  {
   "cell_type": "code",
   "execution_count": 33,
   "metadata": {},
   "outputs": [],
   "source": [
    "sequence = gen_function()"
   ]
  },
  {
   "cell_type": "code",
   "execution_count": 35,
   "metadata": {},
   "outputs": [
    {
     "ename": "StopIteration",
     "evalue": "",
     "output_type": "error",
     "traceback": [
      "\u001b[1;31m---------------------------------------------------------------------------\u001b[0m",
      "\u001b[1;31mStopIteration\u001b[0m                             Traceback (most recent call last)",
      "\u001b[1;32m<ipython-input-35-f94e29dda836>\u001b[0m in \u001b[0;36m<module>\u001b[1;34m\u001b[0m\n\u001b[1;32m----> 1\u001b[1;33m \u001b[0mnext\u001b[0m\u001b[1;33m(\u001b[0m\u001b[0msequence\u001b[0m\u001b[1;33m)\u001b[0m\u001b[1;33m\u001b[0m\u001b[1;33m\u001b[0m\u001b[0m\n\u001b[0m",
      "\u001b[1;31mStopIteration\u001b[0m: "
     ]
    }
   ],
   "source": [
    "next(sequence)"
   ]
  },
  {
   "cell_type": "markdown",
   "metadata": {},
   "source": [
    "Seria uma prática interessande utilizar generator functions para definir fluxos de desenvolvimento, ou para operar parcialmente sobre valores?"
   ]
  },
  {
   "cell_type": "code",
   "execution_count": 36,
   "metadata": {},
   "outputs": [],
   "source": [
    "def split_names(complete_name):\n",
    "    \n",
    "    names = complete_name.split()\n",
    "    \n",
    "    for name in names:\n",
    "        \n",
    "        yield name"
   ]
  },
  {
   "cell_type": "code",
   "execution_count": 42,
   "metadata": {},
   "outputs": [],
   "source": [
    "names = [\n",
    "    'rodrigo bernardo medeiros', \n",
    "    'adriane bernardo medeiros', \n",
    "    'roberval mauricio cesar'\n",
    "]\n",
    "\n",
    "first_name = list()\n",
    "second_name = list()\n",
    "third_name = list()\n",
    "\n",
    "for name in names:\n",
    "    \n",
    "    separated_names = split_names(name)\n",
    "    \n",
    "    first_name.append(next(separated_names))\n",
    "    second_name.append(next(separated_names))\n",
    "    third_name.append(next(separated_names))"
   ]
  },
  {
   "cell_type": "code",
   "execution_count": 44,
   "metadata": {},
   "outputs": [
    {
     "data": {
      "text/plain": [
       "['rodrigo', 'adriane', 'roberval']"
      ]
     },
     "execution_count": 44,
     "metadata": {},
     "output_type": "execute_result"
    }
   ],
   "source": [
    "first_name"
   ]
  },
  {
   "cell_type": "code",
   "execution_count": 45,
   "metadata": {},
   "outputs": [
    {
     "data": {
      "text/plain": [
       "['bernardo', 'bernardo', 'mauricio']"
      ]
     },
     "execution_count": 45,
     "metadata": {},
     "output_type": "execute_result"
    }
   ],
   "source": [
    "second_name"
   ]
  },
  {
   "cell_type": "code",
   "execution_count": 46,
   "metadata": {},
   "outputs": [
    {
     "data": {
      "text/plain": [
       "['medeiros', 'medeiros', 'cesar']"
      ]
     },
     "execution_count": 46,
     "metadata": {},
     "output_type": "execute_result"
    }
   ],
   "source": [
    "third_name"
   ]
  },
  {
   "cell_type": "markdown",
   "metadata": {},
   "source": [
    "Neste exemplo acima, eu utilizo uma GENERATOR FUNCTION para tratar determinado informação."
   ]
  },
  {
   "cell_type": "markdown",
   "metadata": {},
   "source": [
    "Vamos retornar ao exemplo do quadrado dos números, reformulando a solução utilizando uma GENERATOR FUNCTION."
   ]
  },
  {
   "cell_type": "code",
   "execution_count": 47,
   "metadata": {},
   "outputs": [],
   "source": [
    "def gen_square_numbers(max_value):\n",
    "    \n",
    "    current_value = 0\n",
    "    \n",
    "    while current_value < max_value:\n",
    "        \n",
    "        yield current_value ** 2\n",
    "        \n",
    "        current_value += 1"
   ]
  },
  {
   "cell_type": "code",
   "execution_count": 48,
   "metadata": {},
   "outputs": [
    {
     "name": "stdout",
     "output_type": "stream",
     "text": [
      "0\n",
      "1\n",
      "4\n",
      "9\n"
     ]
    }
   ],
   "source": [
    "for num in gen_square_numbers(4):\n",
    "    \n",
    "    print(num)"
   ]
  },
  {
   "cell_type": "markdown",
   "metadata": {},
   "source": [
    "Muito bom, neste caso foi possível reescrever a classe escrita anteriormente que definia diretamente um itarator por uma GENERATOR FUNCTION que retorna um GENERATOR OBJECT que no fundo também é um ITERATOR.\n",
    "Repara-se pela verbosidade de cada código que utilizar GENERATOR FUNCTIONS parece ser muito mais natural, fácil de ler, manter e escalar."
   ]
  },
  {
   "cell_type": "markdown",
   "metadata": {},
   "source": [
    "### Generator Patterns and scalable Composability"
   ]
  },
  {
   "cell_type": "markdown",
   "metadata": {},
   "source": [
    "Agora vamos explorar um pouco mais as GENERATOR FUNCTIONS."
   ]
  },
  {
   "cell_type": "code",
   "execution_count": 123,
   "metadata": {},
   "outputs": [],
   "source": [
    "def matching_lines_from_file(path, pattern):\n",
    "    \n",
    "    with open(path) as handle:\n",
    "        \n",
    "        for line in handle:\n",
    "            \n",
    "            if pattern in line:\n",
    "                \n",
    "                yield line.rstrip('\\n')"
   ]
  },
  {
   "cell_type": "markdown",
   "metadata": {},
   "source": [
    "Neste exemplo, escrevi uma função para ler um arquivo e retornar um GENERATOR OBJECT que itera sobre as linhas que contém determinado padrão de caracteres."
   ]
  },
  {
   "cell_type": "code",
   "execution_count": 136,
   "metadata": {},
   "outputs": [
    {
     "name": "stdout",
     "output_type": "stream",
     "text": [
      "WARNING: Disk usage exceeding 85%\n",
      "WARNING: Almost out of beer\n"
     ]
    }
   ],
   "source": [
    "path = r'./src/log_file.txt'\n",
    "pattern = 'WARNING'\n",
    "\n",
    "for line in matching_lines_from_file(path, pattern):\n",
    "    \n",
    "    print(line)"
   ]
  },
  {
   "cell_type": "markdown",
   "metadata": {},
   "source": [
    "Através da GENERATOR FUNCTION, consegui iterar somente pelas linhas de interesse sem precisar trazer para meu código a complexidade de encontrar o padrão. Resolvo isso através do iterator. Posso escrever essas funções como se fossem uma espécie de filtro sem precisar construir uma sequencia para alocar a informação."
   ]
  },
  {
   "cell_type": "markdown",
   "metadata": {},
   "source": [
    "### Algumas boas práticas neste desenvolvimento:\n",
    "\n",
    "- Utilizar `with` para abrir o arquivo, é uma boa prática que garante que o arquivo será fechado assim que o código passar pelo bloco de contexto.\n",
    "\n",
    "- Neste exemplo, utilizei o modo pythonico de iterar por linhas em um arquivo. Utilizando o for line in file, aproveito este ponto para lembrar de registrar e não mais utilizar o readlines(), este método carrega o arquivo inteiro e com essa joga fora toda minha estratégia de utilizar menos memória em meus desenvolvimentos. Ou seja, jogo fora minha escalabilidade."
   ]
  },
  {
   "cell_type": "markdown",
   "metadata": {},
   "source": [
    "Vamos avançar em nossa função para analisar nosso arquivo de log, agora além de pegar somente as linhas com o padrão WARNING, quero também parsear a informação da linha em um dicionário com duas chaves, `level` para escrever o tipo de mensagem de log e `message` para escrever a mensagem efetivamente:\n"
   ]
  },
  {
   "cell_type": "code",
   "execution_count": 137,
   "metadata": {},
   "outputs": [],
   "source": [
    "def parse_log_records(lines):\n",
    "    \n",
    "    for line in lines:\n",
    "        \n",
    "        level, message = line.split(':', 1)\n",
    "        \n",
    "        yield {\n",
    "            \"level\": level,\n",
    "            \"message\": message\n",
    "        }"
   ]
  },
  {
   "cell_type": "code",
   "execution_count": 138,
   "metadata": {},
   "outputs": [
    {
     "name": "stdout",
     "output_type": "stream",
     "text": [
      "{'level': 'WARNING', 'message': ' Disk usage exceeding 85%'}\n",
      "{'level': 'WARNING', 'message': ' Almost out of beer'}\n"
     ]
    }
   ],
   "source": [
    "valid_lines = matching_lines_from_file(path, pattern)\n",
    "\n",
    "for parsed_info in parse_log_records(valid_lines):\n",
    "    \n",
    "    print(parsed_info)"
   ]
  },
  {
   "cell_type": "markdown",
   "metadata": {},
   "source": [
    "Neste caso combinei duas funções para tratar problemas distintos, ambas são GENERATOR FUNCTIONS que retornam GENERATOR OBJECTS. pelo livro que estou estudando esse tratamento define a composição de escalabilidade. Ou seja, é sempre importante pensar na implementação a nível desses pequenos detalhes, como escalar, como evitar grandes consumos de memória.\n",
    "Mais um detalhe de implementação, a função matching_lines_from_file, recebe um caminho e padrão para executar duas tarefas, uma ler os arquivos e outra retornar um GENERATOR OBJECT contendo somente as linhas de interesse. Neste ponto vamos fazer uma refatoração para que as interfaces estejam alinhadas e ambas as funções possam receber iteradores e operar sobre eles."
   ]
  },
  {
   "cell_type": "code",
   "execution_count": 143,
   "metadata": {},
   "outputs": [],
   "source": [
    "# função responsável por ler um arquivo retornando um GENERATOR OBJECT que itera sobre todas as linhas.\n",
    "\n",
    "def lines_from_file(path):\n",
    "    \n",
    "    with open(path) as handle:\n",
    "        \n",
    "        for line in handle:\n",
    "            \n",
    "            yield line.rstrip('\\n')\n",
    "            \n",
    "def matching_lines(lines, pattern):\n",
    "    \n",
    "    for line in lines:\n",
    "        \n",
    "        if pattern in line:\n",
    "            \n",
    "            yield line"
   ]
  },
  {
   "cell_type": "code",
   "execution_count": 140,
   "metadata": {},
   "outputs": [
    {
     "name": "stdout",
     "output_type": "stream",
     "text": [
      "{'level': 'WARNING', 'message': ' Disk usage exceeding 85%'}\n",
      "{'level': 'WARNING', 'message': ' Almost out of beer'}\n"
     ]
    }
   ],
   "source": [
    "lines_from_file = lines_from_file(path)\n",
    "correct_lines = matching_lines(lines_from_file, 'WARNING')\n",
    "\n",
    "for line in parse_log_records(correct_lines):\n",
    "    \n",
    "    print(line)"
   ]
  },
  {
   "cell_type": "markdown",
   "metadata": {},
   "source": [
    "### Teste utilizando `yield from`\n",
    "\n",
    "Esta composição de palavras-chave é utilizada quando quero encadear duas generate functions. Vou desenvolver um exemplo baseado na leitura do arquivo com log."
   ]
  },
  {
   "cell_type": "code",
   "execution_count": 150,
   "metadata": {},
   "outputs": [],
   "source": [
    "def matching_lines_from_files(path, pattern='WARNING'):\n",
    "    \n",
    "    all_lines = lines_from_file(path)\n",
    "    \n",
    "    yield from matching_lines(all_lines, pattern)"
   ]
  },
  {
   "cell_type": "code",
   "execution_count": 152,
   "metadata": {},
   "outputs": [
    {
     "name": "stdout",
     "output_type": "stream",
     "text": [
      "{'level': 'WARNING', 'message': ' Disk usage exceeding 85%'}\n",
      "{'level': 'WARNING', 'message': ' Almost out of beer'}\n"
     ]
    }
   ],
   "source": [
    "for line in parse_log_records(matching_lines_from_files(path, pattern='WARNING')):\n",
    "    \n",
    "    print(line)"
   ]
  },
  {
   "cell_type": "markdown",
   "metadata": {},
   "source": [
    "### Python está cheio de iteradores"
   ]
  },
  {
   "cell_type": "markdown",
   "metadata": {},
   "source": [
    "Vamos ver alguns exemplos:"
   ]
  },
  {
   "cell_type": "code",
   "execution_count": 167,
   "metadata": {},
   "outputs": [],
   "source": [
    "calories = {\n",
    "    \"apple\": 95,\n",
    "    \"slice of bacon\": 43,\n",
    "    \"cheddar cheese\": 113,\n",
    "    \"ice cream\": 15\n",
    "}\n",
    "\n",
    "items = calories.items()"
   ]
  },
  {
   "cell_type": "code",
   "execution_count": 170,
   "metadata": {},
   "outputs": [
    {
     "data": {
      "text/plain": [
       "4"
      ]
     },
     "execution_count": 170,
     "metadata": {},
     "output_type": "execute_result"
    }
   ],
   "source": [
    "len(items)"
   ]
  },
  {
   "cell_type": "code",
   "execution_count": 171,
   "metadata": {},
   "outputs": [
    {
     "data": {
      "text/plain": [
       "<dict_itemiterator at 0x27253fc75e0>"
      ]
     },
     "execution_count": 171,
     "metadata": {},
     "output_type": "execute_result"
    }
   ],
   "source": [
    "iter(items)"
   ]
  },
  {
   "cell_type": "code",
   "execution_count": 173,
   "metadata": {},
   "outputs": [
    {
     "data": {
      "text/plain": [
       "True"
      ]
     },
     "execution_count": 173,
     "metadata": {},
     "output_type": "execute_result"
    }
   ],
   "source": [
    "('apple', 95) in items"
   ]
  },
  {
   "cell_type": "code",
   "execution_count": 177,
   "metadata": {},
   "outputs": [
    {
     "name": "stdout",
     "output_type": "stream",
     "text": [
      "apple: 95\n",
      "slice of bacon: 43\n",
      "cheddar cheese: 113\n",
      "ice cream: 15\n",
      "1 - ('apple', 95)\n",
      "2 - ('slice of bacon', 43)\n",
      "3 - ('cheddar cheese', 113)\n",
      "4 - ('ice cream', 15)\n"
     ]
    }
   ],
   "source": [
    "for key, value in items: print(f'{key}: {value}')\n",
    "for ind, item in enumerate(items): print(f'{ind + 1} - {item}')"
   ]
  },
  {
   "cell_type": "markdown",
   "metadata": {},
   "source": [
    "Além desse exemplo de iterador, no livro são citados diversos outros exemplos de iterators em python, como os resultados da utilização de map, filter e zip. Vou codar um pouco com esses caras pra ver no que dá."
   ]
  },
  {
   "cell_type": "code",
   "execution_count": 234,
   "metadata": {},
   "outputs": [
    {
     "data": {
      "text/plain": [
       "map"
      ]
     },
     "execution_count": 234,
     "metadata": {},
     "output_type": "execute_result"
    }
   ],
   "source": [
    "str_numbers = ['1', '2', '3', '4']\n",
    "\n",
    "def change_type(number):\n",
    "    \n",
    "    return int(number)\n",
    "\n",
    "int_numbers = map(change_type, str_numbers)\n",
    "\n",
    "type(int_numbers)"
   ]
  },
  {
   "cell_type": "markdown",
   "metadata": {},
   "source": [
    "A aplicação de uma função map, retorna um objeto do tipo map que adivinhem só, é um iterator."
   ]
  },
  {
   "cell_type": "code",
   "execution_count": 235,
   "metadata": {},
   "outputs": [
    {
     "data": {
      "text/plain": [
       "filter"
      ]
     },
     "execution_count": 235,
     "metadata": {},
     "output_type": "execute_result"
    }
   ],
   "source": [
    "def filter_test(number):\n",
    "    \n",
    "    if number > 2:\n",
    "        \n",
    "        return number\n",
    "    \n",
    "\n",
    "filter_numbers = filter(filter_test, int_numbers)\n",
    "type(filter_numbers)"
   ]
  },
  {
   "cell_type": "markdown",
   "metadata": {},
   "source": [
    "Fazendo um paralelo com a aplicação do map, ao aplicar o filter obtenho um objeto do tipo filter que também é um iterator. É importante saber que isso existe e sempre pensar nesse gerenciamento de memória ao desenvolver as soluções com isso vamos ficando cada vez mais afiados. Lembrando que enquanto a gente só conhece martelo, todo problema é prego. Conhecer novas formas de resolver problemas nos torna mais criativos"
   ]
  },
  {
   "cell_type": "markdown",
   "metadata": {},
   "source": [
    "### Iterator protocol\n",
    "\n",
    "objetos que são considerados iterators se seguem o seguinte protocolo:\n",
    "\n",
    "1) Tem a implementação de um método `__next__` que não tem parametros.<br>\n",
    "2) O método `__next__` é responsável por atualizar o estado do objeto para o próximo item na sequencia.<br>\n",
    "3) Após todos os elementos serem produzidos, o método `__next__` é responsável por dar um raise exception no erro StopIteration.<br>\n",
    "4) Ocorre a definição de um método `__iter__` que não recebe parametros e retorna o próprio elemento. Liretamente um método com um return self dentro.<br>"
   ]
  },
  {
   "cell_type": "markdown",
   "metadata": {},
   "source": [
    "### Definição de um objeto iterável."
   ]
  },
  {
   "cell_type": "code",
   "execution_count": 240,
   "metadata": {},
   "outputs": [],
   "source": [
    "import pandas as pd"
   ]
  },
  {
   "cell_type": "code",
   "execution_count": 264,
   "metadata": {},
   "outputs": [],
   "source": [
    "content = {\n",
    "    'names': [\n",
    "        'rodrigo', \n",
    "        'renata',\n",
    "        'isabella', \n",
    "        'gabriella'\n",
    "    ],\n",
    "    'age': [\n",
    "        35,\n",
    "        34,\n",
    "        2,\n",
    "        0\n",
    "    ]\n",
    "}\n",
    "\n",
    "family = pd.DataFrame(content)"
   ]
  },
  {
   "cell_type": "code",
   "execution_count": 265,
   "metadata": {},
   "outputs": [
    {
     "data": {
      "text/plain": [
       "[{'names': 'rodrigo', 'age': 35},\n",
       " {'names': 'renata', 'age': 34},\n",
       " {'names': 'isabella', 'age': 2},\n",
       " {'names': 'gabriella', 'age': 0}]"
      ]
     },
     "execution_count": 265,
     "metadata": {},
     "output_type": "execute_result"
    }
   ],
   "source": [
    "family.to_dict(orient='records')"
   ]
  },
  {
   "cell_type": "code",
   "execution_count": 285,
   "metadata": {},
   "outputs": [
    {
     "name": "stdout",
     "output_type": "stream",
     "text": [
      "{'names': 'rodrigo', 'age': 35}\n",
      "{'names': 'renata', 'age': 34}\n",
      "{'names': 'isabella', 'age': 2}\n",
      "{'names': 'gabriella', 'age': 0}\n"
     ]
    }
   ],
   "source": [
    "for ind, item in family.iterrows():\n",
    "    \n",
    "    print(dict(item))"
   ]
  },
  {
   "cell_type": "code",
   "execution_count": 287,
   "metadata": {},
   "outputs": [
    {
     "data": {
      "text/plain": [
       "names    rodrigo\n",
       "age           35\n",
       "Name: 0, dtype: object"
      ]
     },
     "execution_count": 287,
     "metadata": {},
     "output_type": "execute_result"
    }
   ],
   "source": [
    "family.loc[0]"
   ]
  },
  {
   "cell_type": "code",
   "execution_count": 288,
   "metadata": {},
   "outputs": [],
   "source": [
    "class DataFrame():\n",
    "    \n",
    "    def __init__(self, dataframe):\n",
    "        \n",
    "        self._dataframe = dataframe.reset_index(drop=True)\n",
    "        self._index = 0\n",
    "        \n",
    "    def __iter__(self):\n",
    "        \n",
    "        return self\n",
    "    \n",
    "    def __next__(self):\n",
    "        \n",
    "        try:\n",
    "            \n",
    "            return dict(self._dataframe.loc[self._index])\n",
    "        \n",
    "        except:\n",
    "            \n",
    "            raise StopIteration\n",
    "        \n",
    "        finally:\n",
    "            \n",
    "            self._index += 1"
   ]
  },
  {
   "cell_type": "code",
   "execution_count": 289,
   "metadata": {},
   "outputs": [],
   "source": [
    "# implementing __iter__ metho to define an iterable object, this method must return a iterator in this case I just apply \n",
    "# the built-in function iter() in the list.\n",
    "\n",
    "class IterRowsDataFrame():\n",
    "    \n",
    "    def __init__(self, dataframe):\n",
    "        \n",
    "        self._dataframe = dataframe\n",
    "        \n",
    "    def __iter__(self):\n",
    "        \n",
    "        return iter(self._dataframe.to_dict(orient='records'))"
   ]
  },
  {
   "cell_type": "code",
   "execution_count": 290,
   "metadata": {},
   "outputs": [],
   "source": [
    "# Just to solve the problem in othet way, in this case instead of use iter(), I defined the __iter__ method as a generator\n",
    "# function which returns a generator object.\n",
    "\n",
    "class IterRowsDataFrameGeneratorFunction():\n",
    "    \n",
    "    def __init__(self, dataframe):\n",
    "        \n",
    "        self._dataframe = dataframe\n",
    "        \n",
    "    def __iter__(self):\n",
    "        \n",
    "        index = 0\n",
    "        \n",
    "        while index < len(self._dataframe):\n",
    "        \n",
    "            yield self._dataframe.to_dict(orient='records')[index]\n",
    "            \n",
    "            index += 1"
   ]
  },
  {
   "cell_type": "code",
   "execution_count": 291,
   "metadata": {},
   "outputs": [
    {
     "name": "stdout",
     "output_type": "stream",
     "text": [
      "{'names': 'rodrigo', 'age': 35}\n",
      "{'names': 'renata', 'age': 34}\n",
      "{'names': 'isabella', 'age': 2}\n",
      "{'names': 'gabriella', 'age': 0}\n"
     ]
    }
   ],
   "source": [
    "dict_rows_family = DataFrame(family)\n",
    "for item in dict_rows_family: print(item)"
   ]
  },
  {
   "cell_type": "code",
   "execution_count": 292,
   "metadata": {},
   "outputs": [
    {
     "name": "stdout",
     "output_type": "stream",
     "text": [
      "{'names': 'rodrigo', 'age': 35}\n",
      "{'names': 'renata', 'age': 34}\n",
      "{'names': 'isabella', 'age': 2}\n",
      "{'names': 'gabriella', 'age': 0}\n"
     ]
    }
   ],
   "source": [
    "dict_rows_family = IterRowsDataFrame(family)\n",
    "for item in dict_rows_family: print(item)"
   ]
  },
  {
   "cell_type": "code",
   "execution_count": 293,
   "metadata": {},
   "outputs": [
    {
     "name": "stdout",
     "output_type": "stream",
     "text": [
      "{'names': 'rodrigo', 'age': 35}\n",
      "{'names': 'renata', 'age': 34}\n",
      "{'names': 'isabella', 'age': 2}\n",
      "{'names': 'gabriella', 'age': 0}\n"
     ]
    }
   ],
   "source": [
    "dict_rows_family = IterRowsDataFrameGeneratorFunction(family)\n",
    "for item in dict_rows_family: print(item)"
   ]
  },
  {
   "cell_type": "code",
   "execution_count": 277,
   "metadata": {},
   "outputs": [
    {
     "data": {
      "text/plain": [
       "{'names': 'rodrigo', 'age': 35}"
      ]
     },
     "execution_count": 277,
     "metadata": {},
     "output_type": "execute_result"
    }
   ],
   "source": [
    "teste = DataFrame(family)\n",
    "next(teste)"
   ]
  },
  {
   "cell_type": "code",
   "execution_count": 278,
   "metadata": {},
   "outputs": [
    {
     "ename": "TypeError",
     "evalue": "'IterRowsDataFrame' object is not an iterator",
     "output_type": "error",
     "traceback": [
      "\u001b[1;31m---------------------------------------------------------------------------\u001b[0m",
      "\u001b[1;31mTypeError\u001b[0m                                 Traceback (most recent call last)",
      "\u001b[1;32m<ipython-input-278-06275aa07449>\u001b[0m in \u001b[0;36m<module>\u001b[1;34m\u001b[0m\n\u001b[0;32m      1\u001b[0m \u001b[0mteste\u001b[0m \u001b[1;33m=\u001b[0m \u001b[0mIterRowsDataFrame\u001b[0m\u001b[1;33m(\u001b[0m\u001b[0mfamily\u001b[0m\u001b[1;33m)\u001b[0m\u001b[1;33m\u001b[0m\u001b[1;33m\u001b[0m\u001b[0m\n\u001b[1;32m----> 2\u001b[1;33m \u001b[0mnext\u001b[0m\u001b[1;33m(\u001b[0m\u001b[0mteste\u001b[0m\u001b[1;33m)\u001b[0m\u001b[1;33m\u001b[0m\u001b[1;33m\u001b[0m\u001b[0m\n\u001b[0m",
      "\u001b[1;31mTypeError\u001b[0m: 'IterRowsDataFrame' object is not an iterator"
     ]
    }
   ],
   "source": [
    "teste = IterRowsDataFrame(family)\n",
    "next(teste)"
   ]
  },
  {
   "cell_type": "code",
   "execution_count": 279,
   "metadata": {},
   "outputs": [
    {
     "ename": "TypeError",
     "evalue": "'IterRowsDataFrameGeneratorFunction' object is not an iterator",
     "output_type": "error",
     "traceback": [
      "\u001b[1;31m---------------------------------------------------------------------------\u001b[0m",
      "\u001b[1;31mTypeError\u001b[0m                                 Traceback (most recent call last)",
      "\u001b[1;32m<ipython-input-279-e02c88057834>\u001b[0m in \u001b[0;36m<module>\u001b[1;34m\u001b[0m\n\u001b[0;32m      1\u001b[0m \u001b[0mteste\u001b[0m \u001b[1;33m=\u001b[0m \u001b[0mIterRowsDataFrameGeneratorFunction\u001b[0m\u001b[1;33m(\u001b[0m\u001b[0mfamily\u001b[0m\u001b[1;33m)\u001b[0m\u001b[1;33m\u001b[0m\u001b[1;33m\u001b[0m\u001b[0m\n\u001b[1;32m----> 2\u001b[1;33m \u001b[0mnext\u001b[0m\u001b[1;33m(\u001b[0m\u001b[0mteste\u001b[0m\u001b[1;33m)\u001b[0m\u001b[1;33m\u001b[0m\u001b[1;33m\u001b[0m\u001b[0m\n\u001b[0m",
      "\u001b[1;31mTypeError\u001b[0m: 'IterRowsDataFrameGeneratorFunction' object is not an iterator"
     ]
    }
   ],
   "source": [
    "teste = IterRowsDataFrameGeneratorFunction(family)\n",
    "next(teste)"
   ]
  },
  {
   "cell_type": "markdown",
   "metadata": {},
   "source": [
    "Como podemos ver nestes exemplos, a classe DataFrame é um iterator pela definição dos métodos necessários (`__iter__`, `__next__`), enquanto que as demais são apenas iterables definindo somente o método `__iter__`."
   ]
  },
  {
   "cell_type": "markdown",
   "metadata": {},
   "source": [
    "# CREATING COLLECTIONS WITH COMPREHENSIONS"
   ]
  },
  {
   "cell_type": "markdown",
   "metadata": {},
   "source": [
    "# CRIANDO COLEÇÕES COM COMPREENSÕES"
   ]
  },
  {
   "cell_type": "markdown",
   "metadata": {},
   "source": [
    "List comprehension é uma forma declarativa de alto nível para criar listas em python."
   ]
  },
  {
   "cell_type": "code",
   "execution_count": 1,
   "metadata": {},
   "outputs": [
    {
     "name": "stdout",
     "output_type": "stream",
     "text": [
      "[0, 1, 4, 9, 16, 25]\n"
     ]
    }
   ],
   "source": [
    "squares = [n * n for n in range(6)]\n",
    "print(squares)"
   ]
  },
  {
   "cell_type": "markdown",
   "metadata": {},
   "source": [
    "Isto é exatamente equivalente ao seguinte:"
   ]
  },
  {
   "cell_type": "code",
   "execution_count": 2,
   "metadata": {},
   "outputs": [
    {
     "name": "stdout",
     "output_type": "stream",
     "text": [
      "[0, 1, 4, 9, 16, 25]\n"
     ]
    }
   ],
   "source": [
    "squares = list() # ou squares = []\n",
    "\n",
    "for n in range(6):\n",
    "    \n",
    "    squares.append(n * n)\n",
    "    \n",
    "print(squares)"
   ]
  },
  {
   "cell_type": "markdown",
   "metadata": {},
   "source": [
    "Observe que no primeiro exemplo, o que você digita está declarando que tipo de lista você quer, enquanto que no segundo está especificando como cria-la. \n",
    "Por isso que nós dizemos que é uma forma alto nível e declarativa:Funciona como se vocês estivesse definindo que tipo de lista quer criar, e depois, deixa o Python descobrir como construi-la. "
   ]
  },
  {
   "cell_type": "markdown",
   "metadata": {},
   "source": [
    "Python permite escrever outros tipos de `comprehensions` além das listas. Segue um exemplo de `dictionary comprehension`:"
   ]
  },
  {
   "cell_type": "code",
   "execution_count": 3,
   "metadata": {},
   "outputs": [
    {
     "name": "stdout",
     "output_type": "stream",
     "text": [
      "{0: '', 1: 'x', 2: 'xx', 3: 'xxx', 4: 'xxxx'}\n"
     ]
    }
   ],
   "source": [
    "blocks = { n: \"x\" * n for n in range(5)}\n",
    "print(blocks)"
   ]
  },
  {
   "cell_type": "markdown",
   "metadata": {},
   "source": [
    "Isto é exatamente equivalente a fazer o seguinte:"
   ]
  },
  {
   "cell_type": "code",
   "execution_count": 4,
   "metadata": {},
   "outputs": [
    {
     "name": "stdout",
     "output_type": "stream",
     "text": [
      "{0: '', 1: 'x', 2: 'xx', 3: 'xxx', 4: 'xxxx'}\n"
     ]
    }
   ],
   "source": [
    "blocks = dict()\n",
    "\n",
    "for n in range(5):\n",
    "    \n",
    "    blocks[n] = 'x' * n\n",
    "    \n",
    "print(blocks)"
   ]
  },
  {
   "cell_type": "markdown",
   "metadata": {},
   "source": [
    "Os principais benefícios das `comprehensions` são legibilidade e manutenibilidade. Muitas pessoas, acham elas muito legíveis; Mesmo desenvolvedores que nunca encontraram elas antes, podem na maioria das vezes adivinhar corretamente o que significa.\n",
    "E além disso, há um benefício cognitivo mais profundo: Uma vez que você praticar um pouco, vai achar que pode escreve-las com pouquíssimo esforço mental - mantendo sua atenção livre para outras tarefas."
   ]
  },
  {
   "cell_type": "markdown",
   "metadata": {},
   "source": [
    "## List Comprehensions\n",
    "\n",
    "__`List comprehension` é a mais usada e util tipo de `comprehension`, e essencialmente é uma forma de criar e popular uma lista.__ Sua estrutura segue a seguinte expressão:"
   ]
  },
  {
   "cell_type": "markdown",
   "metadata": {},
   "source": [
    "[ __EXPRESSION__ for __VARIABLE__ in __SEQUENCE__ ]"
   ]
  },
  {
   "cell_type": "markdown",
   "metadata": {},
   "source": [
    "*EXPRESSION* é qualquer expressão python, embora em compreensões, esta expressão tipicamente contenha uma variável. Esta variável é declarada no campo *VARIABLE*. *SEQUENCE* define a fonte dos valores pelos quais a variável itera, criando uma sequencia final de valores calculados."
   ]
  },
  {
   "cell_type": "code",
   "execution_count": 17,
   "metadata": {},
   "outputs": [
    {
     "name": "stdout",
     "output_type": "stream",
     "text": [
      "<class 'list'>\n",
      "[0, 1, 4, 9, 16, 25]\n"
     ]
    }
   ],
   "source": [
    "squares = [n * n for n in range(6)]\n",
    "print(type(squares))\n",
    "print(squares)"
   ]
  },
  {
   "cell_type": "markdown",
   "metadata": {},
   "source": [
    "Observe que o resultado é uma lista regular. Em __squares__, a expressão é n\\*n; a variável é n; e a sequencia fonte é range(6). A sequencia é um objeto do tipo range; Na verdade, neste ponto podemos utilizar qualquer iterável, outra lista ou tuple, um generator object, ou qualquer outra coisa.\n",
    "<br>\n",
    "A parte da expressão pode ser qualquer que se reduz a um valor:\n",
    "<br>\n",
    "- Expressões aritiméticas\n",
    "- Uma chamada de função do tipo f(m), utilizando m como variável.\n",
    "- Uma operação de corte (como s[::-1], para reverter uma string).\n",
    "- Chamadas de métodos (foo.bar(), iterando sobre uma sequencia de objetos).\n",
    "- E muito mais..."
   ]
  },
  {
   "cell_type": "markdown",
   "metadata": {},
   "source": [
    "__Alguns exemplos:__"
   ]
  },
  {
   "cell_type": "code",
   "execution_count": 21,
   "metadata": {},
   "outputs": [
    {
     "name": "stdout",
     "output_type": "stream",
     "text": [
      "[23, 27, 31, 35, 39]\n",
      "[1, 3, 4, 9, 11, 20]\n",
      "[1, 11, 14, -10, -1, 13]\n",
      "['dog', 'parakeet', 'cat', 'llama']\n",
      "['The dog', 'The parakeet', 'The cat', 'The llama']\n",
      "['dog_dog', 'parakeet_parakeet', 'cat_cat', 'llama_llama']\n"
     ]
    }
   ],
   "source": [
    "# Primeiro definimos algumas sequencias fonte:\n",
    "\n",
    "pets = 'dog parakeet cat llama'.split()\n",
    "numbers = [9, -1, -4, 20, 11, -3]\n",
    "\n",
    "# Uma função para chamar\n",
    "def repeat(s):\n",
    "    \n",
    "    return s + '_' + s\n",
    "\n",
    "# Agora, alguns exemplos de list comprehensions:\n",
    "\n",
    "print([2 * m + 3 for m in range(10, 20, 2)])\n",
    "print(sorted([abs(num) for num in numbers]))\n",
    "print([10 - x for x in numbers])\n",
    "print([pet.lower() for pet in pets])\n",
    "print([\"The \" + pet for pet in pets])\n",
    "print([repeat(pet) for pet in pets])"
   ]
  },
  {
   "cell_type": "markdown",
   "metadata": {},
   "source": [
    "Observe como todas se encaixam na mesma estrtura. Todos tem as palavras-chave __for__ e __in__; Que são requeridas  pelo Python, em qualquer tipo de compreensão que você possa escrever. Elas são intercaladas entre três campos: a expressão; a variável; e a sequencia fonte.<br>\n",
    "\n",
    "A ordem dos elementos na lista final é determinado pela ordem da sequencia fonte. Porém é possível filtrar adicionando uma clausula *if*."
   ]
  },
  {
   "cell_type": "code",
   "execution_count": 24,
   "metadata": {},
   "outputs": [
    {
     "name": "stdout",
     "output_type": "stream",
     "text": [
      "[-8, 40]\n",
      "['DOG', 'CAT']\n",
      "[9, 20, 11]\n",
      "['bib', 'dad', 'eye']\n"
     ]
    }
   ],
   "source": [
    "def is_palindrome(s):\n",
    "    \n",
    "    return s == s[::-1]\n",
    "\n",
    "pets = 'dog parakeet cat llama'.split()\n",
    "numbers = [9, -1, -4, 20, 11, -3]\n",
    "words = 'bib bias dad eye deede tooth'.split()\n",
    "\n",
    "print([n*2 for n in numbers if n % 2 == 0])\n",
    "print([pet.upper() for pet in pets if len(pet) == 3])\n",
    "print([n for n in numbers if n >0])\n",
    "print([word for word in words if is_palindrome(word)])"
   ]
  },
  {
   "cell_type": "markdown",
   "metadata": {},
   "source": [
    "A estrutura é:\n",
    "\n",
    "[EXPR for VAR in SEQUENCE if CONDITION]\n",
    "\n",
    "Onde *CONDITION* é a expressão que avalia para Verdadeiro ou Falso, dependendo da variável. Note que também podemos utilizar uma função aplicada a variável (is_palindrome(word)), ou algo mais complexo (len(pet) == 3). Optando por usar uma função pode melhorar a legibilidade, e também permite aplicar uma lógica de filtro que não se encaixa em somente uma linha.\n",
    "\n",
    "Uma `list comprehension` sempre deve ter a palavra \"for\", mesmo que a expressão seja a própria variável. Por exemplo, quando dizemos:"
   ]
  },
  {
   "cell_type": "code",
   "execution_count": 25,
   "metadata": {},
   "outputs": [
    {
     "data": {
      "text/plain": [
       "['bib', 'dad', 'eye']"
      ]
     },
     "execution_count": 25,
     "metadata": {},
     "output_type": "execute_result"
    }
   ],
   "source": [
    "[word for word in words if is_palindrome(word)]"
   ]
  },
  {
   "cell_type": "markdown",
   "metadata": {},
   "source": [
    "As vezes as pessoas pensam que `word for word in words` parece redundante (e é), e tentam encurtar a sentença. Porém, isso não funciona, como apresentado no exemplo a seguir:"
   ]
  },
  {
   "cell_type": "code",
   "execution_count": 26,
   "metadata": {},
   "outputs": [
    {
     "ename": "SyntaxError",
     "evalue": "invalid syntax (<ipython-input-26-42bedfba4293>, line 1)",
     "output_type": "error",
     "traceback": [
      "\u001b[1;36m  File \u001b[1;32m\"<ipython-input-26-42bedfba4293>\"\u001b[1;36m, line \u001b[1;32m1\u001b[0m\n\u001b[1;33m    [word in word if is_palindrome(word)]\u001b[0m\n\u001b[1;37m                                        ^\u001b[0m\n\u001b[1;31mSyntaxError\u001b[0m\u001b[1;31m:\u001b[0m invalid syntax\n"
     ]
    }
   ],
   "source": [
    "[word in word if is_palindrome(word)]"
   ]
  },
  {
   "cell_type": "markdown",
   "metadata": {},
   "source": [
    "### Formatando Para Legibilidade (e mais)"
   ]
  },
  {
   "cell_type": "markdown",
   "metadata": {},
   "source": [
    "`List Comprehensions` realisticas, tendem ser muito longas para encaixar bem em apenas uma linha. E elas são compostas de partes lógicas distintas, que podem variar independentemente conforme o código evolui. Isto cria alguns inconvenientes, que são resolvidos por um fato muito conveniente: As regras normais de espaços em branco são suspensas dentro de colchetes. Você pode explorar isso e fazer com as `list comprehensions` sejam mais legíveis e manuteníveis, divindo-as através de múltiplas linhas."
   ]
  },
  {
   "cell_type": "code",
   "execution_count": 27,
   "metadata": {},
   "outputs": [],
   "source": [
    "def double_short_words(words):\n",
    "    \n",
    "    return [\n",
    "        word + '_' + word\n",
    "        for word in words\n",
    "        if len(word) < 5\n",
    "    ]"
   ]
  },
  {
   "cell_type": "code",
   "execution_count": 28,
   "metadata": {},
   "outputs": [
    {
     "name": "stdout",
     "output_type": "stream",
     "text": [
      "['bib_bib', 'bias_bias', 'dad_dad', 'eye_eye']\n"
     ]
    }
   ],
   "source": [
    "print(double_short_words(words))"
   ]
  },
  {
   "cell_type": "markdown",
   "metadata": {},
   "source": [
    "O que foi feito aqui foi dividir a `comprehension` através de linhas separadas. Você pode, e deve, fazer isso com qualquer `comprehension`. Isso é ótimo por várias razões, a mais importante sendo o ganho instantâneo na legibilidade. Esta `comprehension` tem três ideias separadas expressas dentro dos colchetes: a expressão (word + word); a sequencia (for word in words); e a clausula de filtro (if len(word) < 5). Estes são aspectos lógicos separados, e fazendo a divisão através das linhas, toma-se menos esforço cognitivo para um humano ler e entender quando comparado a versão escrita em somente uma linha. Com isso a lista está previamente parseada para você, conforme você lê o código.\n",
    "\n",
    "Existe um outro benefício: Controle de versão e revisão de código são mais fáceis de se fazer. Imagine que você e eu somos desenvolvedores no mesmo time, trabalhando na mesma base de código em diferentes branchs. No meu branch, eu altero a expressão `word + '_' + word` para `word + '_' + word + '_' + word`; no seu, você muda o limiar para \"len(word) < 7\". Se a `comprehension` estiver na mesma linha, as ferramentas de versionamento de código vão identificar isso como um conflito de fusão, e estes conflitos terão que ser resolvidos manualmente. Mas uma vez que a `list comprehension` esteja dividida entre várias linhas, nossa ferramenta de controle de versão vai automaticamente ser capaz de juntar todas as modificações sem conflito. E se nós estivermos fazendo uma revisão de código, como deveriamos, o revisor pode identificar com precisão a mudança imediatamente, sem ter que percorrer linhas por linha pensando."
   ]
  },
  {
   "cell_type": "markdown",
   "metadata": {},
   "source": [
    "### Múltiplas Fontes e Filtros"
   ]
  },
  {
   "cell_type": "markdown",
   "metadata": {},
   "source": [
    "Você pode ter várias clausulas `for VAR in SEQUENCE`. Isto permite que você construa listas com pares, trios, etc... a partir de uma ou mais sequências fonte."
   ]
  },
  {
   "cell_type": "code",
   "execution_count": 31,
   "metadata": {},
   "outputs": [
    {
     "data": {
      "text/plain": [
       "['orange_bike',\n",
       " 'orange_basketball',\n",
       " 'orange_skateboard',\n",
       " 'orange_doll',\n",
       " 'purple_bike',\n",
       " 'purple_basketball',\n",
       " 'purple_skateboard',\n",
       " 'purple_doll',\n",
       " 'pink_bike',\n",
       " 'pink_basketball',\n",
       " 'pink_skateboard',\n",
       " 'pink_doll']"
      ]
     },
     "execution_count": 31,
     "metadata": {},
     "output_type": "execute_result"
    }
   ],
   "source": [
    "colors = 'orange purple pink'.split()\n",
    "toys = 'bike basketball skateboard doll'.split()\n",
    "\n",
    "[\n",
    "    color + '_' + toy\n",
    "    for color in colors\n",
    "    for toy in toys\n",
    "]"
   ]
  },
  {
   "cell_type": "markdown",
   "metadata": {},
   "source": [
    "Todo par vindo dessas duas fontes, *colors* e *toys*, é utilizado para calcular um valor na lista final. Esta lista final tem 12 elementos, o produto da dimensão das duas listas fonte.\n",
    "\n",
    "Eu quero que você note que as duas clausulas `for` são independentes entre si; *colors* e *toys* são duas listas não relacionadas. Utilizar múltiplas clausulas `for` pode as vezes tomar uma forma diferente, onde elas são mais independentes.\n",
    "\n",
    "Considere este exemplo:"
   ]
  },
  {
   "cell_type": "code",
   "execution_count": 40,
   "metadata": {},
   "outputs": [
    {
     "data": {
      "text/plain": [
       "[1.0,\n",
       " 2.0,\n",
       " 3.0,\n",
       " 4.0,\n",
       " 5.0,\n",
       " 6.0,\n",
       " 7.0,\n",
       " 8.0,\n",
       " 9.0,\n",
       " 10.0,\n",
       " 11.0,\n",
       " 12.0,\n",
       " 13.0,\n",
       " 14.0,\n",
       " 15.0,\n",
       " 16.0,\n",
       " 17.0,\n",
       " 18.0,\n",
       " 19.0,\n",
       " 20.0]"
      ]
     },
     "execution_count": 40,
     "metadata": {},
     "output_type": "execute_result"
    }
   ],
   "source": [
    "ranges = [range(1, 7), range(7, 12), range(12, 21)]\n",
    "\n",
    "[\n",
    "    float(num)\n",
    "    for subrange in ranges\n",
    "    for num in subrange\n",
    "]"
   ]
  },
  {
   "cell_type": "markdown",
   "metadata": {},
   "source": [
    "A sequencia fonte - \"ranges\" - é uma lista de objetos do tipo range. Agora, esta `list comprehension` tem duas clausulas novamente. Mas observe que uma depende da outra. A fonte da segunda é uma variável da primeira!\n",
    "\n",
    "Este exemplo não é como o exemplo de brinquedos coloridos, onde as clausulas são independentes umas das outras. Quando encadeados desta forma a ordem é importante."
   ]
  },
  {
   "cell_type": "code",
   "execution_count": 41,
   "metadata": {},
   "outputs": [
    {
     "ename": "NameError",
     "evalue": "name 'subrange' is not defined",
     "output_type": "error",
     "traceback": [
      "\u001b[1;31m---------------------------------------------------------------------------\u001b[0m",
      "\u001b[1;31mNameError\u001b[0m                                 Traceback (most recent call last)",
      "\u001b[1;32m<ipython-input-41-ddcce88d278a>\u001b[0m in \u001b[0;36m<module>\u001b[1;34m\u001b[0m\n\u001b[0;32m      1\u001b[0m [\n\u001b[0;32m      2\u001b[0m     \u001b[0mfloat\u001b[0m\u001b[1;33m(\u001b[0m\u001b[0mnum\u001b[0m\u001b[1;33m)\u001b[0m\u001b[1;33m\u001b[0m\u001b[1;33m\u001b[0m\u001b[0m\n\u001b[1;32m----> 3\u001b[1;33m     \u001b[1;32mfor\u001b[0m \u001b[0mnum\u001b[0m \u001b[1;32min\u001b[0m \u001b[0msubrange\u001b[0m\u001b[1;33m\u001b[0m\u001b[1;33m\u001b[0m\u001b[0m\n\u001b[0m\u001b[0;32m      4\u001b[0m     \u001b[1;32mfor\u001b[0m \u001b[0msubrange\u001b[0m \u001b[1;32min\u001b[0m \u001b[0mranges\u001b[0m\u001b[1;33m\u001b[0m\u001b[1;33m\u001b[0m\u001b[0m\n\u001b[0;32m      5\u001b[0m ]\n",
      "\u001b[1;31mNameError\u001b[0m: name 'subrange' is not defined"
     ]
    }
   ],
   "source": [
    "[\n",
    "    float(num)\n",
    "    for num in subrange\n",
    "    for subrange in ranges\n",
    "]"
   ]
  },
  {
   "cell_type": "markdown",
   "metadata": {},
   "source": [
    "Python avalia a `list comprehension` da esquerda para a direita. Se a primeira clausula é `for num in subrange`, neste momento, subrange não está definido ainda. Então, você deve colocar `for surange in ranges` primeiro. Você pode encadear mais que duas clausula `for` juntas; a primeira vai somente referenciar uma fonte definida anteriormente, e as outras podem usar as fontes definidas nas clausulas `for` anteriores, como a subrange mostrada no exemplo.\n",
    "\n",
    "Beleza, isto é para clausulas `for` encadeadas. Se as clausulas são independentes, a ordem importa? A resposta é sim, importam porém de uma forma diferente. Qual a diferença entre essas duas duas `list comprehensions`."
   ]
  },
  {
   "cell_type": "code",
   "execution_count": 42,
   "metadata": {},
   "outputs": [],
   "source": [
    "colors = 'orange purple pink'.split()\n",
    "toys = 'bike basketball skateboard doll'.split()"
   ]
  },
  {
   "cell_type": "code",
   "execution_count": 49,
   "metadata": {},
   "outputs": [
    {
     "data": {
      "text/plain": [
       "['orange bike',\n",
       " 'orange basketball',\n",
       " 'orange skateboard',\n",
       " 'orange doll',\n",
       " 'purple bike',\n",
       " 'purple basketball',\n",
       " 'purple skateboard',\n",
       " 'purple doll',\n",
       " 'pink bike',\n",
       " 'pink basketball',\n",
       " 'pink skateboard',\n",
       " 'pink doll']"
      ]
     },
     "execution_count": 49,
     "metadata": {},
     "output_type": "execute_result"
    }
   ],
   "source": [
    "[\n",
    "    color + ' ' + toy\n",
    "    for color in colors\n",
    "    for toy in toys\n",
    "]"
   ]
  },
  {
   "cell_type": "code",
   "execution_count": 50,
   "metadata": {},
   "outputs": [
    {
     "data": {
      "text/plain": [
       "['orange bike',\n",
       " 'purple bike',\n",
       " 'pink bike',\n",
       " 'orange basketball',\n",
       " 'purple basketball',\n",
       " 'pink basketball',\n",
       " 'orange skateboard',\n",
       " 'purple skateboard',\n",
       " 'pink skateboard',\n",
       " 'orange doll',\n",
       " 'purple doll',\n",
       " 'pink doll']"
      ]
     },
     "execution_count": 50,
     "metadata": {},
     "output_type": "execute_result"
    }
   ],
   "source": [
    "[\n",
    "    color + ' ' + toy\n",
    "    for toy in toys\n",
    "    for color in colors\n",
    "]"
   ]
  },
  {
   "cell_type": "markdown",
   "metadata": {},
   "source": [
    "A ordem aqui não importa na mesma forma que as clausulas `for` encadeadas, onde você tem que colocar as coisas em certa ondem, ou seu programa não vai rodar. Aqui, você tem uma escolha. E esta escolha a ordem dos elementos na lista final. O primeiro elemento em cada um dos arranjos é \"orange bike\". E observe que o segundo elemento é diferente. Pense um momento, e pergunte a você mesmo: Por que? Por que o primeiro elemento é o mesmo em ambas as listas? E porque somente a partir do segundo elemento o arranjo é diferente?\n",
    "\n",
    "Isto tem haver com qual sequencia é mantida constante enquanto a outra varia. É a mesma lógica que aplicamos em loops `for` aninhados."
   ]
  },
  {
   "cell_type": "code",
   "execution_count": 52,
   "metadata": {},
   "outputs": [
    {
     "name": "stdout",
     "output_type": "stream",
     "text": [
      "orange bike\n",
      "orange basketball\n"
     ]
    }
   ],
   "source": [
    "# Primeira configuração:\n",
    "\n",
    "build_colors_toys = []\n",
    "\n",
    "for color in colors:\n",
    "    \n",
    "    for toy in toys:\n",
    "        \n",
    "        build_colors_toys.append(color + \" \" + toy)\n",
    "        \n",
    "        \n",
    "print(build_colors_toys[0])\n",
    "print(build_colors_toys[1])"
   ]
  },
  {
   "cell_type": "code",
   "execution_count": 53,
   "metadata": {},
   "outputs": [
    {
     "name": "stdout",
     "output_type": "stream",
     "text": [
      "orange bike\n",
      "purple bike\n"
     ]
    }
   ],
   "source": [
    "# Segunda configuração:\n",
    "\n",
    "build_toys_colors = []\n",
    "\n",
    "for toy in toys:\n",
    "    \n",
    "    for color in colors:\n",
    "        \n",
    "        build_toys_colors.append(color + \" \" + toy)\n",
    "        \n",
    "print(build_toys_colors[0])\n",
    "print(build_toys_colors[1])"
   ]
  },
  {
   "cell_type": "markdown",
   "metadata": {},
   "source": [
    "A segunda clausula `for` na `list comprehension` corresponde ao `for loop` mais interno. Os valores variam através de seu range mais rapidamente do que o loop externo.\n",
    "\n",
    "E além de poder utilizar múltiplas clausulas `for`, você pode ter mais de uma clausula `if`, para multiplos níveis de filtro. Basta escrever várias clausulas em sequencia."
   ]
  },
  {
   "cell_type": "code",
   "execution_count": 73,
   "metadata": {},
   "outputs": [
    {
     "name": "stdout",
     "output_type": "stream",
     "text": [
      "[9, 17]\n"
     ]
    }
   ],
   "source": [
    "numbers = [9, -1, -4, 20, 17, -3]\n",
    "\n",
    "odd_positives = [\n",
    "    num for num in numbers\n",
    "    if num % 2 == 1\n",
    "    if (num >0)\n",
    "]\n",
    "\n",
    "print(odd_positives)"
   ]
  },
  {
   "cell_type": "markdown",
   "metadata": {},
   "source": [
    "Aqui, eu coloquei cada clausula `if` em sua própria linha, pela legibilidade - mas eu poderia colocar ambas em uma linha apenas. Quando você tiver mais de uma clausula `if`,  cada elemento deve atender todos os critérios para fazer parte da lista final. Em outras palavras, clausulas `if` são do tipo `and` e não `or`.\n",
    "\n",
    "E se você quiser fazer uma clausula `or` - para incluir elementos que atendem pelo menos uma das clausulas `if`, omitindo apenas aquelas que não atendem ambas? `list comprehension` não permite fazer isso diretamente. A mini-linguagem para escrever `comprehensions` não é tão expressiva quando o próprio Python, e existem listas que você precisa construir que não podem ser expressas como uma `comprehension`.\n",
    "\n",
    "Mas as vezes, você pode contornar um pouco através da definição de funções. Por exemplo, como você poderia construir um filtro baseado na clausula de um número ser múltiplo de 2 __ou__ 3."
   ]
  },
  {
   "cell_type": "code",
   "execution_count": 74,
   "metadata": {},
   "outputs": [
    {
     "data": {
      "text/plain": [
       "[9, -4, 20, -3]"
      ]
     },
     "execution_count": 74,
     "metadata": {},
     "output_type": "execute_result"
    }
   ],
   "source": [
    "numbers = [9, -1, -4, 20, 11, -3]\n",
    "\n",
    "def is_mul_of_2_or_3(num):\n",
    "    \n",
    "    return (num % 2 == 0) or (num % 3 == 0)\n",
    "\n",
    "[\n",
    "    num for num in numbers\n",
    "    if is_mul_of_2_or_3(num)\n",
    "]"
   ]
  },
  {
   "cell_type": "markdown",
   "metadata": {},
   "source": [
    "__COMENTÁRIO PESSOAL__\n",
    "\n",
    "Uma outra alternativa é escrever uma clausula `if` mais complexa, composta por múltiplos testes."
   ]
  },
  {
   "cell_type": "code",
   "execution_count": 83,
   "metadata": {},
   "outputs": [
    {
     "data": {
      "text/plain": [
       "[9, -4, 20, -3]"
      ]
     },
     "execution_count": 83,
     "metadata": {},
     "output_type": "execute_result"
    }
   ],
   "source": [
    "[\n",
    "    num for num in numbers\n",
    "    if (num % 2 == 0) | (num % 3 == 0)\n",
    "]"
   ]
  },
  {
   "cell_type": "markdown",
   "metadata": {},
   "source": [
    "Essa limitações serão discutidas melhor posteriormente.\n",
    "\n",
    "Podemos utilizar multiplas clausulas `for` e `if` juntas:"
   ]
  },
  {
   "cell_type": "code",
   "execution_count": 85,
   "metadata": {},
   "outputs": [
    {
     "data": {
      "text/plain": [
       "[WeightInfo(weigth=0.2, value=27.5, offset=7.1),\n",
       " WeightInfo(weigth=0.2, value=27.5, offset=9.5),\n",
       " WeightInfo(weigth=0.2, value=13.4, offset=7.1),\n",
       " WeightInfo(weigth=0.2, value=13.4, offset=9.5),\n",
       " WeightInfo(weigth=0.5, value=13.4, offset=7.1),\n",
       " WeightInfo(weigth=0.5, value=13.4, offset=9.5)]"
      ]
     },
     "execution_count": 85,
     "metadata": {},
     "output_type": "execute_result"
    }
   ],
   "source": [
    "weights = [0.2, 0.5, 0.9]\n",
    "values = [27.5, 13.4]\n",
    "offsets = [4.3, 7.1, 9.5]\n",
    "\n",
    "from collections import namedtuple\n",
    "\n",
    "infos = namedtuple('WeightInfo', 'weigth value offset')\n",
    "\n",
    "[\n",
    "    infos(weight, value, offset)\n",
    "    for weight in weights\n",
    "    for value in values\n",
    "    for offset in offsets\n",
    "    if offset >5.0\n",
    "    if weight * value < offset\n",
    "]"
   ]
  },
  {
   "cell_type": "markdown",
   "metadata": {},
   "source": [
    "__COMENTÁRIO PESSOAL__\n",
    "\n",
    "O exemplo do livro não contém namedtuple, e sim uma lista de tuples como apresentado a seguir."
   ]
  },
  {
   "cell_type": "code",
   "execution_count": 82,
   "metadata": {},
   "outputs": [
    {
     "data": {
      "text/plain": [
       "[(0.2, 27.5, 7.1),\n",
       " (0.2, 27.5, 9.5),\n",
       " (0.2, 13.4, 7.1),\n",
       " (0.2, 13.4, 9.5),\n",
       " (0.5, 13.4, 7.1),\n",
       " (0.5, 13.4, 9.5)]"
      ]
     },
     "execution_count": 82,
     "metadata": {},
     "output_type": "execute_result"
    }
   ],
   "source": [
    "[\n",
    "    (weight, value, offset)\n",
    "    for weight in weights\n",
    "    for value in values\n",
    "    for offset in offsets\n",
    "    if offset > 5.0\n",
    "    if weight * value < offset\n",
    "]"
   ]
  },
  {
   "cell_type": "markdown",
   "metadata": {},
   "source": [
    "A única regra é que a primeira clausula `for` deve vir antes da primeira clausula `if`. Tirando isso, você pode intercalar as clausulas `for` e `if` em qualquer ordem, embora a maioria das pessoas parecem achar mais legível agrupar todas as clausulas `for` primeiro, e depois agrupar todas as clausulas `if` no final."
   ]
  },
  {
   "cell_type": "markdown",
   "metadata": {},
   "source": [
    "### `Comprehensions` e `Generators`"
   ]
  },
  {
   "cell_type": "markdown",
   "metadata": {},
   "source": [
    "`List comprehensions` cria listas:"
   ]
  },
  {
   "cell_type": "code",
   "execution_count": 86,
   "metadata": {},
   "outputs": [
    {
     "name": "stdout",
     "output_type": "stream",
     "text": [
      "<class 'list'>\n"
     ]
    }
   ],
   "source": [
    "squares = [n*n for n in range(6)]\n",
    "print(type(squares))"
   ]
  },
  {
   "cell_type": "markdown",
   "metadata": {},
   "source": [
    "Quando você precisa de uma lista, isto é ótimo, mas as vezes você não precisa de uma lista, você poderia preferir algo mais escalável. Esta parece uma situação próxima a comentada no capítulo sobre `generators`."
   ]
  },
  {
   "cell_type": "code",
   "execution_count": 89,
   "metadata": {},
   "outputs": [],
   "source": [
    "NUM_SQUARES = 10*1000*1000\n",
    "many_squares = [n*n for n in range(NUM_SQUARES)]\n",
    "\n",
    "def do_something(num):\n",
    "    \n",
    "    return None\n",
    "\n",
    "for number in many_squares:\n",
    "    \n",
    "    do_something(number)    "
   ]
  },
  {
   "cell_type": "markdown",
   "metadata": {},
   "source": [
    "Toda a lista many_squares precisa ser criada - toda memória alocada, e cada elemento calculado - antes que a função `do_something` possa ser chamada pelo menos uma vez. E assim, o uso de memória vai pelo ralo =D\n",
    "\n",
    "Você já conhece uma solução: Escreva uma `generator function` e a chame. Porém existe uma opção mais fácil: escreva uma `generator expression`. Este é o nome oficial para isso, mas deveria ser chamado realmente de `generator comprehension`. sintaticamente, parece com uma `list comprehension` - tirando o uso dos parentesis ao invés de colchetes."
   ]
  },
  {
   "cell_type": "code",
   "execution_count": 91,
   "metadata": {},
   "outputs": [
    {
     "data": {
      "text/plain": [
       "generator"
      ]
     },
     "execution_count": 91,
     "metadata": {},
     "output_type": "execute_result"
    }
   ],
   "source": [
    "generated_squares = (n*n for n in range(NUM_SQUARES))\n",
    "type(generated_squares)"
   ]
  },
  {
   "cell_type": "markdown",
   "metadata": {},
   "source": [
    "Esta `generator expression` cria um `generator object`, exatamente como a `list comprehension` cria uma lista. Qualquer `list comprehension` que você escreja, pode ser utilizada para criar um `generator object`, somente trocando entre parentesis e colchetes.\n",
    "\n",
    "E você está criando o objeto diretamente, sem ter que definir uma `generator function` e chama-la. Em outras palavras, uma `generator expression` é um atalho conveniente quando você precisa criar um `generator object` rapidamente:"
   ]
  },
  {
   "cell_type": "code",
   "execution_count": 92,
   "metadata": {},
   "outputs": [],
   "source": [
    "# Isto...\n",
    "\n",
    "many_squares = (n*n for n in range(NUM_SQUARES))\n",
    "\n",
    "# ... é EXATAMENTE igual a isso:\n",
    "\n",
    "def gen_many_squares(limit):\n",
    "    \n",
    "    for n in range(limit):\n",
    "        \n",
    "        yield n * n\n",
    "        \n",
    "many_squares = gen_many_squares(NUM_SQUARES)"
   ]
  },
  {
   "cell_type": "markdown",
   "metadata": {},
   "source": [
    "No que diz respeito ao Python, não há diferença.\n",
    "\n",
    "Tudo que você sabe sobre `list comprehension` aplica-se as `generator expressions`: multiplas clausular `for`, multiplas clausulas `if`, etc. Você só precisa escrever entre parêntesis.\n",
    "\n",
    "Na verdade, as vezes você pode até mesmo omitir os parentesis. Quando passar a `generator expression` como argumento de uma função, você pode as vezes se ver escrevendo (( \"EXPRESSION\" )). Nesta situação, Python permite que você omita o par de parentesis interno. Imagine por exemplo, que você está ordenando uma lista e-mails de consumidores, olhando apenas aqueles consumidores os quais o status é ativo:"
   ]
  },
  {
   "cell_type": "code",
   "execution_count": 99,
   "metadata": {},
   "outputs": [
    {
     "data": {
      "text/plain": [
       "['fred@a.com', 'sandy@f.net', 'tim@d.com']"
      ]
     },
     "execution_count": 99,
     "metadata": {},
     "output_type": "execute_result"
    }
   ],
   "source": [
    "# User é uma classe com campos email e is_active.\n",
    "# users é uma lista de objetos do tipo User\n",
    "\n",
    "class User():\n",
    "    \n",
    "    def __init__(self, email, is_active):\n",
    "        \n",
    "        self.email = email\n",
    "        self.is_active = is_active\n",
    "        \n",
    "users_emails = [\n",
    "    'rodrimedeiros@gmail.com', \n",
    "    'fred@a.com',\n",
    "    'sandy@f.net',\n",
    "    'tim@d.com'\n",
    "]\n",
    "\n",
    "users_status = [\n",
    "    False,\n",
    "    True,\n",
    "    True,\n",
    "    True\n",
    "]\n",
    "\n",
    "users = [\n",
    "    User(email, status) \n",
    "    for email, status in zip(users_emails, users_status)\n",
    "]\n",
    "\n",
    "# Ordenando por e-mail os elementos gerador por uma\n",
    "# GENERATOR EXPRESSION\n",
    "sorted((user.email for user in users if user.is_active))"
   ]
  },
  {
   "cell_type": "code",
   "execution_count": 100,
   "metadata": {},
   "outputs": [
    {
     "data": {
      "text/plain": [
       "['fred@a.com', 'sandy@f.net', 'tim@d.com']"
      ]
     },
     "execution_count": 100,
     "metadata": {},
     "output_type": "execute_result"
    }
   ],
   "source": [
    "# Fazendo a mesma coisa porém omitindo \n",
    "# os parentesis internos\n",
    "\n",
    "sorted(user.email for user in users if user.is_active)"
   ]
  },
  {
   "cell_type": "markdown",
   "metadata": {},
   "source": [
    "Observe como legível e natural é (ou vai ser, uma vez que você tiver praticado um pouco). Uma coisa para se atentar: Você somente pode trabalhar com `generator expressions` de uma linha para passar como argumento para funções e métodos sem parentesis. De outra forma, você tem em mãos um erro de sintaxe:"
   ]
  },
  {
   "cell_type": "code",
   "execution_count": 101,
   "metadata": {},
   "outputs": [
    {
     "ename": "SyntaxError",
     "evalue": "Generator expression must be parenthesized (<ipython-input-101-f2faf818a478>, line 3)",
     "output_type": "error",
     "traceback": [
      "\u001b[1;36m  File \u001b[1;32m\"<ipython-input-101-f2faf818a478>\"\u001b[1;36m, line \u001b[1;32m3\u001b[0m\n\u001b[1;33m    sorted(user.email for user in user\u001b[0m\n\u001b[1;37m           ^\u001b[0m\n\u001b[1;31mSyntaxError\u001b[0m\u001b[1;31m:\u001b[0m Generator expression must be parenthesized\n"
     ]
    }
   ],
   "source": [
    "# Exemplo:\n",
    "\n",
    "sorted(user.email for user in user\n",
    "      if user.is_active, reverse=True)"
   ]
  },
  {
   "cell_type": "markdown",
   "metadata": {},
   "source": [
    "Python não pode interpretar de maneira não ambigua o que você quis dizer aqui, desta forma é necessário utilizar parentesis."
   ]
  },
  {
   "cell_type": "code",
   "execution_count": 102,
   "metadata": {},
   "outputs": [
    {
     "data": {
      "text/plain": [
       "['tim@d.com', 'sandy@f.net', 'fred@a.com']"
      ]
     },
     "execution_count": 102,
     "metadata": {},
     "output_type": "execute_result"
    }
   ],
   "source": [
    "# exemplo que funciona\n",
    "\n",
    "sorted((user.email for user in users\n",
    "       if user.is_active), reverse=True)"
   ]
  },
  {
   "cell_type": "markdown",
   "metadata": {},
   "source": [
    "E claro, as vezes é mais legível alocar a `generator expression` em uma variável."
   ]
  },
  {
   "cell_type": "code",
   "execution_count": 103,
   "metadata": {},
   "outputs": [
    {
     "data": {
      "text/plain": [
       "['tim@d.com', 'sandy@f.net', 'fred@a.com']"
      ]
     },
     "execution_count": 103,
     "metadata": {},
     "output_type": "execute_result"
    }
   ],
   "source": [
    "active_email = (\n",
    "    user.email \n",
    "    for user in users\n",
    "    if user.is_active\n",
    ")\n",
    "\n",
    "sorted(active_email, reverse=True)"
   ]
  },
  {
   "cell_type": "markdown",
   "metadata": {},
   "source": [
    "`Generator expressions` sem parentesis, sugere uma forma forma unificada de pensar sobre `comprehensions`, que conecta `generator expressions` e `list comprehensions`. Aqui está uma `generator expression` para uma sequencia de quadrados:\n",
    "``` python\n",
    "\n",
    "(n ** 2 for n in range(10))\n",
    "\n",
    "```\n",
    "E aqui é a mesma expressão passada como parâmetro para a built-in list() function:\n",
    "\n",
    "``` python\n",
    "\n",
    "list(n ** 2 for n in range(10))\n",
    "\n",
    "```\n",
    "E aqui temos uma `list comprehension`:\n",
    "\n",
    "``` python\n",
    "\n",
    "[n ** 2 for n in range(10)]\n",
    "\n",
    "```"
   ]
  },
  {
   "cell_type": "markdown",
   "metadata": {},
   "source": [
    "Quando você entender `generator expressions`, vai ser fácil enxergar as `list comprehensions` como estruturas de dados derivadas. E o mesmo se aplica para dicionnários e `sets`. Com esta ideia em mente, você começa a ver novas oportunidades de usar tudo isso em seu código, melhorando legibilidade, manutenibilidade e performance."
   ]
  },
  {
   "cell_type": "markdown",
   "metadata": {},
   "source": [
    "### `Generator Expression` ou `List Comprehension`?"
   ]
  },
  {
   "cell_type": "markdown",
   "metadata": {},
   "source": [
    "E as `generator expressions` são tão incríveis, porque usariamos `list comprehensions`? De modo geral, quando decidir qual usar, seu código vai ser mais escalável e responsivo se você utilizar uma `generator expression`. A menos é claro, quando você precisar efetivamente de uma lista. Existem algumas considerações.\n",
    "\n",
    "Primeiro, se é improvável que a lista seja muito grande - e por grande, quero dizer pelo menos milhares de elementos - você provavelmente não vai se beneficiar muito utilizando uma `generator expression`. simplesmente a dimensão não é grande o bastante para que a escalabilidade importe. As `generator expressions` são imutáveis. Se você quiser acesso randômico, ou passar pela sequencia duas vezes ou se você quiser adicionar e remover elementos, as `generator expressions` não vão funcionar."
   ]
  },
  {
   "cell_type": "markdown",
   "metadata": {},
   "source": [
    "__COMENTÁRIO PESSOAL__\n",
    "\n",
    "Neste ponto falando sobre limitações dos `generator objects`, podemos entender também como limitações dos iteradores."
   ]
  },
  {
   "cell_type": "markdown",
   "metadata": {},
   "source": [
    "Isto é especialmente importante escrevendo métodos e funções que retornem uma sequencia. Devemos retornar uma `generator expression` ou uma lista? Em teoria, não há razão para retornar uma lista ao invés de uma `generator object`; Uma lista pode ser trivialmente criada ao passar o `generator object` pela build-in function `list()`. Na prática, a interface pode ser tal que quem chamou a função, realmente queira uma lista. Além disso, se está construindo um valor de retorno como uma lista dentro da função, é bobagem retornar uma `generator expression`, só retorne a lista mesmo.\n",
    "\n",
    "E se sua intenção é criar uma biblioteca utilizável por pessoas que possam não ser pythonistas avançados, isto pode ser um argumento para retornar listas. Quase todos os programadores são familiares com estruturas de lista. Mas poucos são familiares como `generators` funcionam em python, e podem - e é razoável - ficar um pouco confusos quando confrotados com um `generator object`."
   ]
  },
  {
   "cell_type": "markdown",
   "metadata": {},
   "source": [
    "### Dicionários, `Sets` e `Tuples`"
   ]
  },
  {
   "cell_type": "markdown",
   "metadata": {},
   "source": [
    "Assim como uma `list comprehension` cria uma lista, um `dictionary comprehension` cria um dicionário. Você viu um exemplo no começo do capítulo; aqui vai outro. Suponhaque você tenha uma classe `Student`:"
   ]
  },
  {
   "cell_type": "code",
   "execution_count": 109,
   "metadata": {},
   "outputs": [],
   "source": [
    "class Student:\n",
    "    \n",
    "    def __init__(self, name, gpa, major):\n",
    "        \n",
    "        self.name = name\n",
    "        self.gpa = gpa\n",
    "        self.major = major"
   ]
  },
  {
   "cell_type": "markdown",
   "metadata": {},
   "source": [
    "Dado uma lista de objetos da classe `Student`, podemos escrever um  `dictionary comprehension` que mapeia o nome dos estudantes com suas notas:"
   ]
  },
  {
   "cell_type": "code",
   "execution_count": 116,
   "metadata": {},
   "outputs": [],
   "source": [
    "students_list = [\n",
    "    ('Jim Smith', 3.6, 'Computer Science'),\n",
    "    ('Ryan Spencer', 3.1, 'Economics'),\n",
    "    ('Penny Gilmore', 3.9, 'Computer Science'),\n",
    "    ('Alisha jones', 2.5, 'Economics'),\n",
    "    ('Todd Reynolds', 3.4, 'Basket Weaving')\n",
    "]\n",
    "\n",
    "students = [\n",
    "    Student(name, gpa, major)\n",
    "    for name, gpa, major in students_list\n",
    "]"
   ]
  },
  {
   "cell_type": "code",
   "execution_count": 117,
   "metadata": {},
   "outputs": [
    {
     "data": {
      "text/plain": [
       "{'Jim Smith': 3.6,\n",
       " 'Ryan Spencer': 3.1,\n",
       " 'Penny Gilmore': 3.9,\n",
       " 'Alisha jones': 2.5,\n",
       " 'Todd Reynolds': 3.4}"
      ]
     },
     "execution_count": 117,
     "metadata": {},
     "output_type": "execute_result"
    }
   ],
   "source": [
    "{student.name: student.gpa for student in students}"
   ]
  },
  {
   "cell_type": "markdown",
   "metadata": {},
   "source": [
    "A sintaxe difere da `list comprehension` de duas formas. Ao invés de colchetes, utilizamos chaves - o que faz sentido, já que são as ferramentas utilizadas para criar dicionários. A outra diferença é o campo de expressão, cujo formato é \"Chave: Valor\", já que o dicionário é composto por elementos neste formato. Então, a estrutura fica da seguinte forma:\n",
    "\n",
    "{ KEY: VALUE for VARIABLE in SEUQUENCE}\n",
    "\n",
    "Essas são as únicas diferenças. Todo o resto que foi aprendido sobre `list comprehensions` se aplica aqui também, incluindo as clausulas `if`. "
   ]
  },
  {
   "cell_type": "code",
   "execution_count": 118,
   "metadata": {},
   "outputs": [],
   "source": [
    "def invert_name(name):\n",
    "    \n",
    "    first, last = name.split(\" \", 1)\n",
    "    \n",
    "    return ', '.join([last, first])"
   ]
  },
  {
   "cell_type": "code",
   "execution_count": 119,
   "metadata": {},
   "outputs": [
    {
     "data": {
      "text/plain": [
       "{'Smith, Jim': 3.6, 'Gilmore, Penny': 3.9}"
      ]
     },
     "execution_count": 119,
     "metadata": {},
     "output_type": "execute_result"
    }
   ],
   "source": [
    "# Get last name, first name of high-GPA students\n",
    "\n",
    "{\n",
    "    invert_name(student.name): student.gpa\n",
    "    for student in students\n",
    "    if student.gpa > 3.5    \n",
    "}"
   ]
  },
  {
   "cell_type": "markdown",
   "metadata": {},
   "source": [
    "Você pode criar `sets` também. `Set comprehensions` são exatamente como `list comprehensions`, mas ao invés de utilizar colchetes, utilizamos chaves."
   ]
  },
  {
   "cell_type": "code",
   "execution_count": 120,
   "metadata": {},
   "outputs": [
    {
     "name": "stdout",
     "output_type": "stream",
     "text": [
      "['Computer Science', 'Economics', 'Computer Science', 'Economics', 'Basket Weaving']\n",
      "{'Basket Weaving', 'Computer Science', 'Economics'}\n",
      "{'Basket Weaving', 'Computer Science', 'Economics'}\n"
     ]
    }
   ],
   "source": [
    "# Criando uma lista de cursos...\n",
    "\n",
    "major_list = [\n",
    "    student.major for student in students\n",
    "]\n",
    "\n",
    "print(major_list)\n",
    "\n",
    "# Fazendo a mesma operação porém criando um set...\n",
    "\n",
    "major_set = {\n",
    "    student.major for student in students\n",
    "}\n",
    "\n",
    "print(major_set)\n",
    "\n",
    "# Também é possível utilizar o conceito de `generator expression`\n",
    "# em conjunto com a built-in function set()\n",
    "\n",
    "major_set_builtin = set(student.major for student in students)\n",
    "\n",
    "print(major_set_builtin)"
   ]
  },
  {
   "cell_type": "markdown",
   "metadata": {},
   "source": [
    "Como Python faz distinção entre `set` e `dict comprehensions`? Simples! Os dicionários utilizam a expressão \"chave: valor\", enquanto que os `sets` utilizando as expressões padrão com valores simples.\n",
    "\n",
    "E sobre as `tuple comprehensions`? Engraçado: Falando diretamente, Python não as suporta - __COMENTÁRIO PESSOAL__ já que os parentesis são utilizados para gerar `generator expressions`- Entretanto, você pode criar uma tuple através da built-in function `tuple()`:"
   ]
  },
  {
   "cell_type": "code",
   "execution_count": 122,
   "metadata": {},
   "outputs": [
    {
     "data": {
      "text/plain": [
       "(3.6, 3.9)"
      ]
     },
     "execution_count": 122,
     "metadata": {},
     "output_type": "execute_result"
    }
   ],
   "source": [
    "tuple(\n",
    "    student.gpa \n",
    "    for student in students\n",
    "    if student.major == \"Computer Science\"\n",
    ")"
   ]
  },
  {
   "cell_type": "markdown",
   "metadata": {},
   "source": [
    "Esta sentença cria uma `tuple`, mas nã é uma `tuple comprehension`. Você está chamando a função built-in `tuple()` que é um construtor e passando um argumento. E qual é o argumento? Uma `generator expression`!\n",
    "\n",
    "__COMENTÁRIO PESSOAL__\n",
    "\n",
    "Isso é lindo demais!"
   ]
  },
  {
   "cell_type": "code",
   "execution_count": 125,
   "metadata": {},
   "outputs": [
    {
     "name": "stdout",
     "output_type": "stream",
     "text": [
      "<class 'generator'>\n"
     ]
    },
    {
     "data": {
      "text/plain": [
       "(3.6, 3.9)"
      ]
     },
     "execution_count": 125,
     "metadata": {},
     "output_type": "execute_result"
    }
   ],
   "source": [
    "cs_students = (student.gpa for student in students \n",
    "              if student.major == 'Computer Science')\n",
    "\n",
    "print(type(cs_students))\n",
    "\n",
    "tuple(cs_students)"
   ]
  },
  {
   "cell_type": "code",
   "execution_count": 126,
   "metadata": {},
   "outputs": [
    {
     "data": {
      "text/plain": [
       "(3.6, 3.9)"
      ]
     },
     "execution_count": 126,
     "metadata": {},
     "output_type": "execute_result"
    }
   ],
   "source": [
    "# É a mesmo coisa de:\n",
    "\n",
    "tuple(\n",
    "(\n",
    "    student.gpa for student in students\n",
    "    if student.major == 'Computer Science'\n",
    "))\n",
    "\n",
    "# Mas lembrando do que vimos anteriormente, no caso de passar\n",
    "# uma generator expression como parametro podemos omitir os pa-\n",
    "# rentesis internos."
   ]
  },
  {
   "cell_type": "markdown",
   "metadata": {},
   "source": [
    "O construtor de `tuples`, recebe um iterador como argumento. O `cs_student` é um `generator object` (criado pela `generator expression`), e um `generator object` nada mais é do que um iterador. Desta forma conseguimos ver como Python tem `tuple comprehensions`, utilizando `tuple(generator expression)`. Na verdade, esta construção nos dá alternativas para criação de dicionários e `sets` através de `comprehensions`."
   ]
  },
  {
   "cell_type": "code",
   "execution_count": 127,
   "metadata": {},
   "outputs": [
    {
     "data": {
      "text/plain": [
       "{'Jim Smith': 3.6,\n",
       " 'Ryan Spencer': 3.1,\n",
       " 'Penny Gilmore': 3.9,\n",
       " 'Alisha jones': 2.5,\n",
       " 'Todd Reynolds': 3.4}"
      ]
     },
     "execution_count": 127,
     "metadata": {},
     "output_type": "execute_result"
    }
   ],
   "source": [
    "# Alternativa:\n",
    "\n",
    "dict(\n",
    "    (student.name, student.gpa)\n",
    "    for student in students\n",
    ")"
   ]
  },
  {
   "cell_type": "code",
   "execution_count": 128,
   "metadata": {},
   "outputs": [
    {
     "data": {
      "text/plain": [
       "{'Basket Weaving', 'Computer Science', 'Economics'}"
      ]
     },
     "execution_count": 128,
     "metadata": {},
     "output_type": "execute_result"
    }
   ],
   "source": [
    "# Alternativa:\n",
    "\n",
    "set(student.major for student in students)"
   ]
  },
  {
   "cell_type": "markdown",
   "metadata": {},
   "source": [
    "Lembrando que, quando você passa uma `generator expression` como parametro de uma funlão, você pode omitir os parentesis internos. Por isso, podemos por exemplo escrever:\n",
    "\n",
    "```python\n",
    "\n",
    "tuple(f(x) for x in numbers)\n",
    "\n",
    "```\n",
    "\n",
    "ao invés de \n",
    "\n",
    "```python\n",
    "\n",
    "tuple((f(x) for x in numbers))\n",
    "\n",
    "```"
   ]
  },
  {
   "cell_type": "markdown",
   "metadata": {},
   "source": [
    "Um último ponto. `Generator expressions` são são análogos escaláveis das `list comprehensions`; Existe algo equivalente para `dicts` e `sets`? Não! Não tem. Se você precisar gerar preguiçosamente pares chave-valor de elementos únicos, sua melhor aposta é criar uma `generator function`."
   ]
  },
  {
   "cell_type": "markdown",
   "metadata": {},
   "source": [
    "### Limites das `Comprehensions`"
   ]
  },
  {
   "cell_type": "markdown",
   "metadata": {},
   "source": [
    "As `comprehensions` tem alguns pontos que as vezes as pessoas tropeçam. Considere o seguinte código."
   ]
  },
  {
   "cell_type": "code",
   "execution_count": 148,
   "metadata": {},
   "outputs": [
    {
     "name": "stdout",
     "output_type": "stream",
     "text": [
      "Got 9 \n"
     ]
    }
   ],
   "source": [
    "# O objetivo é ler as linhas de um arquivo, removendo espaços em\n",
    "# branco e desconsiderando linhas vazias ou que contenham somente\n",
    "# espaços.\n",
    "\n",
    "trimmed_lines = list()\n",
    "\n",
    "for line in open(r'src/wombat-story.txt'):\n",
    "    \n",
    "    line = line.strip()\n",
    "    \n",
    "    if line != '':\n",
    "        \n",
    "        trimmed_lines.append(line)\n",
    "        \n",
    "print(f\"Got {len(trimmed_lines)} \")"
   ]
  },
  {
   "cell_type": "markdown",
   "metadata": {},
   "source": [
    "__COMENTÁRIO PESSOAL:__\n",
    "\n",
    "o método `.strip()` remove espaços em branco no inicio e final da string. Tem como default um parâmetro None com isso remove espaços, se ao invés de None for passado uma cadeia de caracteres, estes caracteres serão removidos do inicio e fim da string."
   ]
  },
  {
   "cell_type": "markdown",
   "metadata": {},
   "source": [
    "Sendo bem direto, o que estamos construindo é uma lista chamada `trimmed_lines`. A lista resultante, tem os espaços em branco iniciais e finais removidos de cada linha, e ignora linhas varias ou compostas somente por espaços. Não é difícil imaginar a necessidade de fazer algo do tipo em um programa real. \n",
    "\n",
    "Agora, como poderiamos fazer isso utilizando uma `list comprehension`?"
   ]
  },
  {
   "cell_type": "code",
   "execution_count": 149,
   "metadata": {},
   "outputs": [
    {
     "name": "stdout",
     "output_type": "stream",
     "text": [
      "Got 9 \n"
     ]
    }
   ],
   "source": [
    "trimmed_lines = [\n",
    "    line.strip()\n",
    "    for line in open(r'src/wombat-story.txt')\n",
    "    if line.strip() != ''\n",
    "]\n",
    "\n",
    "print(f\"Got {len(trimmed_lines)} \")"
   ]
  },
  {
   "cell_type": "markdown",
   "metadata": {},
   "source": [
    "Isto funciona. Mas note que a instrução `line.strip()` aparece duas vezes. Isso faz com que CPU seja despesdiçado comparado com a versão com o loop `for` que executa este comando apenas uma vez. Remover espaços de uma string não é uma operação muito custosa, computacionalmente falando. Mas cedo ou tarde, você vai querer fazer algo onde essa duplicação importa:\n",
    "\n",
    "```python\n",
    "\n",
    "values = [\n",
    "    expensive_function(n)\n",
    "    for n in range(BIG_NUMBER)\n",
    "    if expensive_function(n) > 0\n",
    "]\n",
    "\n",
    "```\n",
    "\n",
    "Então, como criar neste caso, uma `list comprehension`, chamando a função `expensive_function` apenas uma vez? A notícia ruim é que não há uma maneira direta de fazer isso. Existem alguma soluções bem inteligentes para resolver isso, como por exemplo `memoizing` (o que pode facilmente consumir mais memória do que o preciso), definir uma `generator expression` (provavelmente a melhor escolha) ou fazer uma lista intermediária (se ela for pequena). Se a sequencia que você precisa, segue o padrão acima, você pode considerar construi-la da forma antiga com `for loops`, ou uilizar uma `generator function`. Ou se mesmo assim você ainda quiser utilizar uma `comprehension`, use uma `generator expression` no nível intermediário. O resultado é bem legível e tranquilo de entender (pelo menos pra você, que acompanhou o livro até agora).\n",
    "\n",
    "\n",
    "```python\n",
    "\n",
    "intermediate_values = (\n",
    "    expensive_function(n)\n",
    "    for n in range(10000)\n",
    ")\n",
    "\n",
    "\n",
    "values = [\n",
    "    intermediate_values\n",
    "    for intermediate_value in intermediate_values\n",
    "    if intermediate_value > 0\n",
    "]\n",
    "\n",
    "```\n",
    "\n",
    "__COMENTÁRIO PESSOAL__\n",
    "\n",
    "Neste caso, através de uma `generator expression` intermediária, pudemos calcular a expressão computacionalmente custosa apenas uma vez.\n",
    "\n",
    "- Definição de __memoizing__: Pelo que pesquisei, memoizing é quando você faz um cálculo custoso e guarda as respostas em cache, quando o cálculo for necessário novamente, ao invés de fazer o cálculo novamente, o programa pega a resposta previamente calculada. "
   ]
  },
  {
   "cell_type": "markdown",
   "metadata": {},
   "source": [
    "Outra limitação, é que as `list comprehensions` são construidas um elemento de cada vez. A melhor forma de enxergar isso é imaginar uma lista composta por pares chave-valor em linha. Em outras palavras, os elementos chave ocorrem com seus valores logo em seguida. Imagine uma função para converter esta lista em um dicionário."
   ]
  },
  {
   "cell_type": "code",
   "execution_count": 150,
   "metadata": {},
   "outputs": [
    {
     "data": {
      "text/plain": [
       "{'orange': 0.7,\n",
       " 'banana': 0.86,\n",
       " 'cantaloupe': 0.63,\n",
       " 'bok choy': 1.56,\n",
       " 'coconuts': 1.06}"
      ]
     },
     "execution_count": 150,
     "metadata": {},
     "output_type": "execute_result"
    }
   ],
   "source": [
    "# preço por kg de frutas e vegetais em dolar\n",
    "\n",
    "prices_flat_list = [\n",
    "    'orange', 0.70,\n",
    "    'banana', 0.86,\n",
    "    'cantaloupe', 0.63,\n",
    "    'bok choy', 1.56,\n",
    "    'coconuts', 1.06\n",
    "]\n",
    "\n",
    "def list2dict(flattened):\n",
    "    \n",
    "    assert len(flattened) % 2 == 0, \"Input must be list of key-value pairs\"\n",
    "    \n",
    "    unflattened = dict()\n",
    "    \n",
    "    for i in range(0, len(flattened), 2):\n",
    "        \n",
    "        key, value = flattened[i], flattened[i + 1]\n",
    "        \n",
    "        unflattened[key] = value\n",
    "    \n",
    "    return unflattened       \n",
    "\n",
    "list2dict(prices_flat_list)"
   ]
  },
  {
   "cell_type": "markdown",
   "metadata": {},
   "source": [
    "Olhe para o loop na função `list2dict`. Ele percorre os índices pares, da lista passada (`flattened`) ao invés de acessar diretamente seu elementos. Isto permite que possamos referenciar dois elementos por vez (por cada iteração do loop). Mas isto acaba sendo algo que não pode ser expresso na semantica das `list comprehension`. Geralmente, uma `comprehension` opera olhando cada elemento de alguma sequencia fonte por vez; Ela não pode inspecionar elementos vizinhos."
   ]
  },
  {
   "cell_type": "markdown",
   "metadata": {},
   "source": [
    "__COMENTÁRIO PESSOAL__\n",
    "\n",
    "Vou tentar fazer a implementação desde exemplo através de um `dict comprehension`"
   ]
  },
  {
   "cell_type": "code",
   "execution_count": 152,
   "metadata": {},
   "outputs": [
    {
     "data": {
      "text/plain": [
       "{'orange': 0.7,\n",
       " 'banana': 0.86,\n",
       " 'cantaloupe': 0.63,\n",
       " 'bok choy': 1.56,\n",
       " 'coconuts': 1.06}"
      ]
     },
     "execution_count": 152,
     "metadata": {},
     "output_type": "execute_result"
    }
   ],
   "source": [
    "{\n",
    "    prices_flat_list[i]: prices_flat_list[i + 1]\n",
    "    for i in range(0, len(prices_flat_list), 2)\n",
    "}"
   ]
  },
  {
   "cell_type": "markdown",
   "metadata": {},
   "source": [
    "No caso aqui, eu consegui fazer um `dict comprehension` acessando através do índice, não acessando o elemento diretamente, talvez a limitição seja com relação a acessar o elemento diretamente."
   ]
  },
  {
   "cell_type": "markdown",
   "metadata": {},
   "source": [
    "Outro exemplo: Uma função que agrupa os elementos de uma sequencia de acordo com algum critério - por exemplo, a primeira letra de uma string."
   ]
  },
  {
   "cell_type": "code",
   "execution_count": 159,
   "metadata": {},
   "outputs": [],
   "source": [
    "from collections import defaultdict\n",
    "\n",
    "def group_by_first_letter(items):\n",
    "    \n",
    "    grouped = defaultdict(list)\n",
    "    \n",
    "    for item in items:\n",
    "        \n",
    "        key = item[0].lower()\n",
    "        grouped[key].append(item)\n",
    "        \n",
    "    return dict(grouped)"
   ]
  },
  {
   "cell_type": "markdown",
   "metadata": {},
   "source": [
    "__COMENTÁRIO PESSOAL__\n",
    "\n",
    "bem legal a utilização do `defaultdict` pelo que entendi é um dict que carrega valores default para qualquer chave que venha a ser inserida, no caso inicializo a chave com uma lista vazia. Vou fazer um teste rápido inicializando com zero pois daí posso fazer um esquema de montar um contador."
   ]
  },
  {
   "cell_type": "code",
   "execution_count": 172,
   "metadata": {},
   "outputs": [],
   "source": [
    "names = 'rodrigo rodrigo rodrigo renata renata \\\n",
    "         renata renata isabella \\\n",
    "         isabella isabella gabi gabi gabi gabi gabi'.split()"
   ]
  },
  {
   "cell_type": "code",
   "execution_count": 173,
   "metadata": {},
   "outputs": [
    {
     "data": {
      "text/plain": [
       "{'rodrigo': 3, 'renata': 4, 'isabella': 3, 'gabi': 5}"
      ]
     },
     "execution_count": 173,
     "metadata": {},
     "output_type": "execute_result"
    }
   ],
   "source": [
    "def return_zero():\n",
    "    \n",
    "    return 0\n",
    "\n",
    "name_counter = defaultdict(return_zero)\n",
    "\n",
    "for name in names:\n",
    "    \n",
    "    name_counter[name] += 1\n",
    "    \n",
    "\n",
    "name_counter = dict(name_counter)\n",
    "name_counter"
   ]
  },
  {
   "cell_type": "markdown",
   "metadata": {},
   "source": [
    "Muito legal, funcionou o contador com o `defaultdict` lembrando que ele precisa receber um `callable`, um objeto que possa ser chamado (funções, objetos...). Com isso ao invés de passar o valor zero diretamente, criei uma função que simplesmente retorna zero. Com isso todas as chaves agora passaram a ser inicializadas com zero. Posso também fazer uma função anonima será que funciona? Vamos ver:"
   ]
  },
  {
   "cell_type": "code",
   "execution_count": 174,
   "metadata": {},
   "outputs": [
    {
     "data": {
      "text/plain": [
       "{'rodrigo': 3, 'renata': 4, 'isabella': 3, 'gabi': 5}"
      ]
     },
     "execution_count": 174,
     "metadata": {},
     "output_type": "execute_result"
    }
   ],
   "source": [
    "name_counter = defaultdict(lambda :0)\n",
    "\n",
    "for name in names:\n",
    "    \n",
    "    name_counter[name] += 1\n",
    "    \n",
    "\n",
    "name_counter = dict(name_counter)\n",
    "name_counter"
   ]
  },
  {
   "cell_type": "code",
   "execution_count": 160,
   "metadata": {},
   "outputs": [],
   "source": [
    "names = 'Joe Jim Todd Tiffany Zelma Gerry Gina'.split()\n",
    "\n",
    "grouped_names = group_by_first_letter(names)"
   ]
  },
  {
   "cell_type": "code",
   "execution_count": 162,
   "metadata": {},
   "outputs": [
    {
     "data": {
      "text/plain": [
       "{'j': ['Joe', 'Jim'],\n",
       " 't': ['Todd', 'Tiffany'],\n",
       " 'z': ['Zelma'],\n",
       " 'g': ['Gerry', 'Gina']}"
      ]
     },
     "execution_count": 162,
     "metadata": {},
     "output_type": "execute_result"
    }
   ],
   "source": [
    "grouped_names"
   ]
  },
  {
   "cell_type": "markdown",
   "metadata": {},
   "source": [
    "Novamente, a semantica das `Python comprehensions` não foram feitas para suportar este tipo de algoritmo. Em termos de programação funcional, `comprehensions` pode usar operações de `map` e `filter`, mas não podem utilizar `reduce` ou `fold`. Felizmente, isto cobre a maioria dos casos. Apontei essas limitações para evitar que você gaste tempo tentando descobri-las.  "
   ]
  },
  {
   "cell_type": "code",
   "execution_count": null,
   "metadata": {},
   "outputs": [],
   "source": []
  },
  {
   "cell_type": "code",
   "execution_count": null,
   "metadata": {},
   "outputs": [],
   "source": []
  },
  {
   "cell_type": "code",
   "execution_count": null,
   "metadata": {},
   "outputs": [],
   "source": []
  },
  {
   "cell_type": "code",
   "execution_count": 12,
   "metadata": {},
   "outputs": [],
   "source": [
    "def double_short_words(words):\n",
    "    \n",
    "    return [\n",
    "        word + word\n",
    "        for word in words\n",
    "        if len(word) < 5\n",
    "    ]"
   ]
  },
  {
   "cell_type": "code",
   "execution_count": 16,
   "metadata": {},
   "outputs": [
    {
     "name": "stdout",
     "output_type": "stream",
     "text": [
      "['olaola', 'oleole', 'ovoovo']\n"
     ]
    }
   ],
   "source": [
    "words = 'ola ole ovo rodrigo bernardo medeiros'.split()\n",
    "\n",
    "double_small_words = double_short_words(words)\n",
    "print(double_small_words)"
   ]
  },
  {
   "cell_type": "code",
   "execution_count": null,
   "metadata": {},
   "outputs": [],
   "source": []
  },
  {
   "cell_type": "code",
   "execution_count": null,
   "metadata": {},
   "outputs": [],
   "source": []
  },
  {
   "cell_type": "code",
   "execution_count": null,
   "metadata": {},
   "outputs": [],
   "source": []
  },
  {
   "cell_type": "code",
   "execution_count": null,
   "metadata": {},
   "outputs": [],
   "source": []
  },
  {
   "cell_type": "code",
   "execution_count": null,
   "metadata": {},
   "outputs": [],
   "source": []
  },
  {
   "cell_type": "code",
   "execution_count": null,
   "metadata": {},
   "outputs": [],
   "source": []
  }
 ],
 "metadata": {
  "kernelspec": {
   "display_name": "Python 3",
   "language": "python",
   "name": "python3"
  },
  "language_info": {
   "codemirror_mode": {
    "name": "ipython",
    "version": 3
   },
   "file_extension": ".py",
   "mimetype": "text/x-python",
   "name": "python",
   "nbconvert_exporter": "python",
   "pygments_lexer": "ipython3",
   "version": "3.8.5"
  }
 },
 "nbformat": 4,
 "nbformat_minor": 4
}
